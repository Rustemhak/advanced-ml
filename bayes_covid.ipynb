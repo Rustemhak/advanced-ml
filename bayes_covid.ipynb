{
  "nbformat": 4,
  "nbformat_minor": 0,
  "metadata": {
    "colab": {
      "name": "AdvancedML1.ipynb",
      "provenance": []
    },
    "kernelspec": {
      "name": "python3",
      "display_name": "Python 3"
    },
    "language_info": {
      "name": "python"
    }
  },
  "cells": [
    {
      "cell_type": "code",
      "execution_count": 1,
      "metadata": {
        "id": "LNsOotAxj-F2"
      },
      "outputs": [],
      "source": [
        "import pandas as pd\n",
        "from datetime import datetime\n",
        "import matplotlib.pyplot as plt\n",
        "import numpy as np\n",
        "import seaborn as sns\n"
      ]
    },
    {
      "cell_type": "markdown",
      "source": [
        "1"
      ],
      "metadata": {
        "id": "Pa8dFZqx1IYk"
      }
    },
    {
      "cell_type": "code",
      "source": [
        "df = pd.read_csv('owid-covid-data.csv')"
      ],
      "metadata": {
        "id": "LYAHJGjak3Do"
      },
      "execution_count": 2,
      "outputs": []
    },
    {
      "cell_type": "code",
      "source": [
        "df"
      ],
      "metadata": {
        "colab": {
          "base_uri": "https://localhost:8080/",
          "height": 661
        },
        "id": "eRIouU6elBQl",
        "outputId": "a2b3afbc-b6c5-4583-e4ac-389e75fb3564"
      },
      "execution_count": 3,
      "outputs": [
        {
          "output_type": "execute_result",
          "data": {
            "text/plain": [
              "       iso_code continent     location        date  total_cases  new_cases  \\\n",
              "0           AFG      Asia  Afghanistan  2020-02-24          5.0        5.0   \n",
              "1           AFG      Asia  Afghanistan  2020-02-25          5.0        0.0   \n",
              "2           AFG      Asia  Afghanistan  2020-02-26          5.0        0.0   \n",
              "3           AFG      Asia  Afghanistan  2020-02-27          5.0        0.0   \n",
              "4           AFG      Asia  Afghanistan  2020-02-28          5.0        0.0   \n",
              "...         ...       ...          ...         ...          ...        ...   \n",
              "166321      ZWE    Africa     Zimbabwe  2022-03-01     236871.0      491.0   \n",
              "166322      ZWE    Africa     Zimbabwe  2022-03-02     237503.0      632.0   \n",
              "166323      ZWE    Africa     Zimbabwe  2022-03-03     237503.0        0.0   \n",
              "166324      ZWE    Africa     Zimbabwe  2022-03-04     238739.0     1236.0   \n",
              "166325      ZWE    Africa     Zimbabwe  2022-03-05     239019.0      280.0   \n",
              "\n",
              "        new_cases_smoothed  total_deaths  new_deaths  new_deaths_smoothed  \\\n",
              "0                      NaN           NaN         NaN                  NaN   \n",
              "1                      NaN           NaN         NaN                  NaN   \n",
              "2                      NaN           NaN         NaN                  NaN   \n",
              "3                      NaN           NaN         NaN                  NaN   \n",
              "4                      NaN           NaN         NaN                  NaN   \n",
              "...                    ...           ...         ...                  ...   \n",
              "166321             413.000        5395.0         0.0                1.000   \n",
              "166322             416.286        5396.0         1.0                1.143   \n",
              "166323             362.286        5396.0         0.0                0.857   \n",
              "166324             467.429        5397.0         1.0                0.714   \n",
              "166325             459.429        5397.0         0.0                0.571   \n",
              "\n",
              "        ...  female_smokers  male_smokers  handwashing_facilities  \\\n",
              "0       ...             NaN           NaN                  37.746   \n",
              "1       ...             NaN           NaN                  37.746   \n",
              "2       ...             NaN           NaN                  37.746   \n",
              "3       ...             NaN           NaN                  37.746   \n",
              "4       ...             NaN           NaN                  37.746   \n",
              "...     ...             ...           ...                     ...   \n",
              "166321  ...             1.6          30.7                  36.791   \n",
              "166322  ...             1.6          30.7                  36.791   \n",
              "166323  ...             1.6          30.7                  36.791   \n",
              "166324  ...             1.6          30.7                  36.791   \n",
              "166325  ...             1.6          30.7                  36.791   \n",
              "\n",
              "        hospital_beds_per_thousand  life_expectancy  human_development_index  \\\n",
              "0                              0.5            64.83                    0.511   \n",
              "1                              0.5            64.83                    0.511   \n",
              "2                              0.5            64.83                    0.511   \n",
              "3                              0.5            64.83                    0.511   \n",
              "4                              0.5            64.83                    0.511   \n",
              "...                            ...              ...                      ...   \n",
              "166321                         1.7            61.49                    0.571   \n",
              "166322                         1.7            61.49                    0.571   \n",
              "166323                         1.7            61.49                    0.571   \n",
              "166324                         1.7            61.49                    0.571   \n",
              "166325                         1.7            61.49                    0.571   \n",
              "\n",
              "        excess_mortality_cumulative_absolute  excess_mortality_cumulative  \\\n",
              "0                                        NaN                          NaN   \n",
              "1                                        NaN                          NaN   \n",
              "2                                        NaN                          NaN   \n",
              "3                                        NaN                          NaN   \n",
              "4                                        NaN                          NaN   \n",
              "...                                      ...                          ...   \n",
              "166321                                   NaN                          NaN   \n",
              "166322                                   NaN                          NaN   \n",
              "166323                                   NaN                          NaN   \n",
              "166324                                   NaN                          NaN   \n",
              "166325                                   NaN                          NaN   \n",
              "\n",
              "        excess_mortality  excess_mortality_cumulative_per_million  \n",
              "0                    NaN                                      NaN  \n",
              "1                    NaN                                      NaN  \n",
              "2                    NaN                                      NaN  \n",
              "3                    NaN                                      NaN  \n",
              "4                    NaN                                      NaN  \n",
              "...                  ...                                      ...  \n",
              "166321               NaN                                      NaN  \n",
              "166322               NaN                                      NaN  \n",
              "166323               NaN                                      NaN  \n",
              "166324               NaN                                      NaN  \n",
              "166325               NaN                                      NaN  \n",
              "\n",
              "[166326 rows x 67 columns]"
            ],
            "text/html": [
              "\n",
              "  <div id=\"df-65b7bfa7-d5f5-4e30-880e-a3ad9bdbfb66\">\n",
              "    <div class=\"colab-df-container\">\n",
              "      <div>\n",
              "<style scoped>\n",
              "    .dataframe tbody tr th:only-of-type {\n",
              "        vertical-align: middle;\n",
              "    }\n",
              "\n",
              "    .dataframe tbody tr th {\n",
              "        vertical-align: top;\n",
              "    }\n",
              "\n",
              "    .dataframe thead th {\n",
              "        text-align: right;\n",
              "    }\n",
              "</style>\n",
              "<table border=\"1\" class=\"dataframe\">\n",
              "  <thead>\n",
              "    <tr style=\"text-align: right;\">\n",
              "      <th></th>\n",
              "      <th>iso_code</th>\n",
              "      <th>continent</th>\n",
              "      <th>location</th>\n",
              "      <th>date</th>\n",
              "      <th>total_cases</th>\n",
              "      <th>new_cases</th>\n",
              "      <th>new_cases_smoothed</th>\n",
              "      <th>total_deaths</th>\n",
              "      <th>new_deaths</th>\n",
              "      <th>new_deaths_smoothed</th>\n",
              "      <th>...</th>\n",
              "      <th>female_smokers</th>\n",
              "      <th>male_smokers</th>\n",
              "      <th>handwashing_facilities</th>\n",
              "      <th>hospital_beds_per_thousand</th>\n",
              "      <th>life_expectancy</th>\n",
              "      <th>human_development_index</th>\n",
              "      <th>excess_mortality_cumulative_absolute</th>\n",
              "      <th>excess_mortality_cumulative</th>\n",
              "      <th>excess_mortality</th>\n",
              "      <th>excess_mortality_cumulative_per_million</th>\n",
              "    </tr>\n",
              "  </thead>\n",
              "  <tbody>\n",
              "    <tr>\n",
              "      <th>0</th>\n",
              "      <td>AFG</td>\n",
              "      <td>Asia</td>\n",
              "      <td>Afghanistan</td>\n",
              "      <td>2020-02-24</td>\n",
              "      <td>5.0</td>\n",
              "      <td>5.0</td>\n",
              "      <td>NaN</td>\n",
              "      <td>NaN</td>\n",
              "      <td>NaN</td>\n",
              "      <td>NaN</td>\n",
              "      <td>...</td>\n",
              "      <td>NaN</td>\n",
              "      <td>NaN</td>\n",
              "      <td>37.746</td>\n",
              "      <td>0.5</td>\n",
              "      <td>64.83</td>\n",
              "      <td>0.511</td>\n",
              "      <td>NaN</td>\n",
              "      <td>NaN</td>\n",
              "      <td>NaN</td>\n",
              "      <td>NaN</td>\n",
              "    </tr>\n",
              "    <tr>\n",
              "      <th>1</th>\n",
              "      <td>AFG</td>\n",
              "      <td>Asia</td>\n",
              "      <td>Afghanistan</td>\n",
              "      <td>2020-02-25</td>\n",
              "      <td>5.0</td>\n",
              "      <td>0.0</td>\n",
              "      <td>NaN</td>\n",
              "      <td>NaN</td>\n",
              "      <td>NaN</td>\n",
              "      <td>NaN</td>\n",
              "      <td>...</td>\n",
              "      <td>NaN</td>\n",
              "      <td>NaN</td>\n",
              "      <td>37.746</td>\n",
              "      <td>0.5</td>\n",
              "      <td>64.83</td>\n",
              "      <td>0.511</td>\n",
              "      <td>NaN</td>\n",
              "      <td>NaN</td>\n",
              "      <td>NaN</td>\n",
              "      <td>NaN</td>\n",
              "    </tr>\n",
              "    <tr>\n",
              "      <th>2</th>\n",
              "      <td>AFG</td>\n",
              "      <td>Asia</td>\n",
              "      <td>Afghanistan</td>\n",
              "      <td>2020-02-26</td>\n",
              "      <td>5.0</td>\n",
              "      <td>0.0</td>\n",
              "      <td>NaN</td>\n",
              "      <td>NaN</td>\n",
              "      <td>NaN</td>\n",
              "      <td>NaN</td>\n",
              "      <td>...</td>\n",
              "      <td>NaN</td>\n",
              "      <td>NaN</td>\n",
              "      <td>37.746</td>\n",
              "      <td>0.5</td>\n",
              "      <td>64.83</td>\n",
              "      <td>0.511</td>\n",
              "      <td>NaN</td>\n",
              "      <td>NaN</td>\n",
              "      <td>NaN</td>\n",
              "      <td>NaN</td>\n",
              "    </tr>\n",
              "    <tr>\n",
              "      <th>3</th>\n",
              "      <td>AFG</td>\n",
              "      <td>Asia</td>\n",
              "      <td>Afghanistan</td>\n",
              "      <td>2020-02-27</td>\n",
              "      <td>5.0</td>\n",
              "      <td>0.0</td>\n",
              "      <td>NaN</td>\n",
              "      <td>NaN</td>\n",
              "      <td>NaN</td>\n",
              "      <td>NaN</td>\n",
              "      <td>...</td>\n",
              "      <td>NaN</td>\n",
              "      <td>NaN</td>\n",
              "      <td>37.746</td>\n",
              "      <td>0.5</td>\n",
              "      <td>64.83</td>\n",
              "      <td>0.511</td>\n",
              "      <td>NaN</td>\n",
              "      <td>NaN</td>\n",
              "      <td>NaN</td>\n",
              "      <td>NaN</td>\n",
              "    </tr>\n",
              "    <tr>\n",
              "      <th>4</th>\n",
              "      <td>AFG</td>\n",
              "      <td>Asia</td>\n",
              "      <td>Afghanistan</td>\n",
              "      <td>2020-02-28</td>\n",
              "      <td>5.0</td>\n",
              "      <td>0.0</td>\n",
              "      <td>NaN</td>\n",
              "      <td>NaN</td>\n",
              "      <td>NaN</td>\n",
              "      <td>NaN</td>\n",
              "      <td>...</td>\n",
              "      <td>NaN</td>\n",
              "      <td>NaN</td>\n",
              "      <td>37.746</td>\n",
              "      <td>0.5</td>\n",
              "      <td>64.83</td>\n",
              "      <td>0.511</td>\n",
              "      <td>NaN</td>\n",
              "      <td>NaN</td>\n",
              "      <td>NaN</td>\n",
              "      <td>NaN</td>\n",
              "    </tr>\n",
              "    <tr>\n",
              "      <th>...</th>\n",
              "      <td>...</td>\n",
              "      <td>...</td>\n",
              "      <td>...</td>\n",
              "      <td>...</td>\n",
              "      <td>...</td>\n",
              "      <td>...</td>\n",
              "      <td>...</td>\n",
              "      <td>...</td>\n",
              "      <td>...</td>\n",
              "      <td>...</td>\n",
              "      <td>...</td>\n",
              "      <td>...</td>\n",
              "      <td>...</td>\n",
              "      <td>...</td>\n",
              "      <td>...</td>\n",
              "      <td>...</td>\n",
              "      <td>...</td>\n",
              "      <td>...</td>\n",
              "      <td>...</td>\n",
              "      <td>...</td>\n",
              "      <td>...</td>\n",
              "    </tr>\n",
              "    <tr>\n",
              "      <th>166321</th>\n",
              "      <td>ZWE</td>\n",
              "      <td>Africa</td>\n",
              "      <td>Zimbabwe</td>\n",
              "      <td>2022-03-01</td>\n",
              "      <td>236871.0</td>\n",
              "      <td>491.0</td>\n",
              "      <td>413.000</td>\n",
              "      <td>5395.0</td>\n",
              "      <td>0.0</td>\n",
              "      <td>1.000</td>\n",
              "      <td>...</td>\n",
              "      <td>1.6</td>\n",
              "      <td>30.7</td>\n",
              "      <td>36.791</td>\n",
              "      <td>1.7</td>\n",
              "      <td>61.49</td>\n",
              "      <td>0.571</td>\n",
              "      <td>NaN</td>\n",
              "      <td>NaN</td>\n",
              "      <td>NaN</td>\n",
              "      <td>NaN</td>\n",
              "    </tr>\n",
              "    <tr>\n",
              "      <th>166322</th>\n",
              "      <td>ZWE</td>\n",
              "      <td>Africa</td>\n",
              "      <td>Zimbabwe</td>\n",
              "      <td>2022-03-02</td>\n",
              "      <td>237503.0</td>\n",
              "      <td>632.0</td>\n",
              "      <td>416.286</td>\n",
              "      <td>5396.0</td>\n",
              "      <td>1.0</td>\n",
              "      <td>1.143</td>\n",
              "      <td>...</td>\n",
              "      <td>1.6</td>\n",
              "      <td>30.7</td>\n",
              "      <td>36.791</td>\n",
              "      <td>1.7</td>\n",
              "      <td>61.49</td>\n",
              "      <td>0.571</td>\n",
              "      <td>NaN</td>\n",
              "      <td>NaN</td>\n",
              "      <td>NaN</td>\n",
              "      <td>NaN</td>\n",
              "    </tr>\n",
              "    <tr>\n",
              "      <th>166323</th>\n",
              "      <td>ZWE</td>\n",
              "      <td>Africa</td>\n",
              "      <td>Zimbabwe</td>\n",
              "      <td>2022-03-03</td>\n",
              "      <td>237503.0</td>\n",
              "      <td>0.0</td>\n",
              "      <td>362.286</td>\n",
              "      <td>5396.0</td>\n",
              "      <td>0.0</td>\n",
              "      <td>0.857</td>\n",
              "      <td>...</td>\n",
              "      <td>1.6</td>\n",
              "      <td>30.7</td>\n",
              "      <td>36.791</td>\n",
              "      <td>1.7</td>\n",
              "      <td>61.49</td>\n",
              "      <td>0.571</td>\n",
              "      <td>NaN</td>\n",
              "      <td>NaN</td>\n",
              "      <td>NaN</td>\n",
              "      <td>NaN</td>\n",
              "    </tr>\n",
              "    <tr>\n",
              "      <th>166324</th>\n",
              "      <td>ZWE</td>\n",
              "      <td>Africa</td>\n",
              "      <td>Zimbabwe</td>\n",
              "      <td>2022-03-04</td>\n",
              "      <td>238739.0</td>\n",
              "      <td>1236.0</td>\n",
              "      <td>467.429</td>\n",
              "      <td>5397.0</td>\n",
              "      <td>1.0</td>\n",
              "      <td>0.714</td>\n",
              "      <td>...</td>\n",
              "      <td>1.6</td>\n",
              "      <td>30.7</td>\n",
              "      <td>36.791</td>\n",
              "      <td>1.7</td>\n",
              "      <td>61.49</td>\n",
              "      <td>0.571</td>\n",
              "      <td>NaN</td>\n",
              "      <td>NaN</td>\n",
              "      <td>NaN</td>\n",
              "      <td>NaN</td>\n",
              "    </tr>\n",
              "    <tr>\n",
              "      <th>166325</th>\n",
              "      <td>ZWE</td>\n",
              "      <td>Africa</td>\n",
              "      <td>Zimbabwe</td>\n",
              "      <td>2022-03-05</td>\n",
              "      <td>239019.0</td>\n",
              "      <td>280.0</td>\n",
              "      <td>459.429</td>\n",
              "      <td>5397.0</td>\n",
              "      <td>0.0</td>\n",
              "      <td>0.571</td>\n",
              "      <td>...</td>\n",
              "      <td>1.6</td>\n",
              "      <td>30.7</td>\n",
              "      <td>36.791</td>\n",
              "      <td>1.7</td>\n",
              "      <td>61.49</td>\n",
              "      <td>0.571</td>\n",
              "      <td>NaN</td>\n",
              "      <td>NaN</td>\n",
              "      <td>NaN</td>\n",
              "      <td>NaN</td>\n",
              "    </tr>\n",
              "  </tbody>\n",
              "</table>\n",
              "<p>166326 rows × 67 columns</p>\n",
              "</div>\n",
              "      <button class=\"colab-df-convert\" onclick=\"convertToInteractive('df-65b7bfa7-d5f5-4e30-880e-a3ad9bdbfb66')\"\n",
              "              title=\"Convert this dataframe to an interactive table.\"\n",
              "              style=\"display:none;\">\n",
              "        \n",
              "  <svg xmlns=\"http://www.w3.org/2000/svg\" height=\"24px\"viewBox=\"0 0 24 24\"\n",
              "       width=\"24px\">\n",
              "    <path d=\"M0 0h24v24H0V0z\" fill=\"none\"/>\n",
              "    <path d=\"M18.56 5.44l.94 2.06.94-2.06 2.06-.94-2.06-.94-.94-2.06-.94 2.06-2.06.94zm-11 1L8.5 8.5l.94-2.06 2.06-.94-2.06-.94L8.5 2.5l-.94 2.06-2.06.94zm10 10l.94 2.06.94-2.06 2.06-.94-2.06-.94-.94-2.06-.94 2.06-2.06.94z\"/><path d=\"M17.41 7.96l-1.37-1.37c-.4-.4-.92-.59-1.43-.59-.52 0-1.04.2-1.43.59L10.3 9.45l-7.72 7.72c-.78.78-.78 2.05 0 2.83L4 21.41c.39.39.9.59 1.41.59.51 0 1.02-.2 1.41-.59l7.78-7.78 2.81-2.81c.8-.78.8-2.07 0-2.86zM5.41 20L4 18.59l7.72-7.72 1.47 1.35L5.41 20z\"/>\n",
              "  </svg>\n",
              "      </button>\n",
              "      \n",
              "  <style>\n",
              "    .colab-df-container {\n",
              "      display:flex;\n",
              "      flex-wrap:wrap;\n",
              "      gap: 12px;\n",
              "    }\n",
              "\n",
              "    .colab-df-convert {\n",
              "      background-color: #E8F0FE;\n",
              "      border: none;\n",
              "      border-radius: 50%;\n",
              "      cursor: pointer;\n",
              "      display: none;\n",
              "      fill: #1967D2;\n",
              "      height: 32px;\n",
              "      padding: 0 0 0 0;\n",
              "      width: 32px;\n",
              "    }\n",
              "\n",
              "    .colab-df-convert:hover {\n",
              "      background-color: #E2EBFA;\n",
              "      box-shadow: 0px 1px 2px rgba(60, 64, 67, 0.3), 0px 1px 3px 1px rgba(60, 64, 67, 0.15);\n",
              "      fill: #174EA6;\n",
              "    }\n",
              "\n",
              "    [theme=dark] .colab-df-convert {\n",
              "      background-color: #3B4455;\n",
              "      fill: #D2E3FC;\n",
              "    }\n",
              "\n",
              "    [theme=dark] .colab-df-convert:hover {\n",
              "      background-color: #434B5C;\n",
              "      box-shadow: 0px 1px 3px 1px rgba(0, 0, 0, 0.15);\n",
              "      filter: drop-shadow(0px 1px 2px rgba(0, 0, 0, 0.3));\n",
              "      fill: #FFFFFF;\n",
              "    }\n",
              "  </style>\n",
              "\n",
              "      <script>\n",
              "        const buttonEl =\n",
              "          document.querySelector('#df-65b7bfa7-d5f5-4e30-880e-a3ad9bdbfb66 button.colab-df-convert');\n",
              "        buttonEl.style.display =\n",
              "          google.colab.kernel.accessAllowed ? 'block' : 'none';\n",
              "\n",
              "        async function convertToInteractive(key) {\n",
              "          const element = document.querySelector('#df-65b7bfa7-d5f5-4e30-880e-a3ad9bdbfb66');\n",
              "          const dataTable =\n",
              "            await google.colab.kernel.invokeFunction('convertToInteractive',\n",
              "                                                     [key], {});\n",
              "          if (!dataTable) return;\n",
              "\n",
              "          const docLinkHtml = 'Like what you see? Visit the ' +\n",
              "            '<a target=\"_blank\" href=https://colab.research.google.com/notebooks/data_table.ipynb>data table notebook</a>'\n",
              "            + ' to learn more about interactive tables.';\n",
              "          element.innerHTML = '';\n",
              "          dataTable['output_type'] = 'display_data';\n",
              "          await google.colab.output.renderOutput(dataTable, element);\n",
              "          const docLink = document.createElement('div');\n",
              "          docLink.innerHTML = docLinkHtml;\n",
              "          element.appendChild(docLink);\n",
              "        }\n",
              "      </script>\n",
              "    </div>\n",
              "  </div>\n",
              "  "
            ]
          },
          "metadata": {},
          "execution_count": 3
        }
      ]
    },
    {
      "cell_type": "code",
      "source": [
        "date_before = datetime(2020, 3, 3)\n",
        "df = df[(df['location'] == 'Russia') & (pd.to_datetime(df['date']) >= pd.Timestamp(2020, 3, 3))]\n",
        "df"
      ],
      "metadata": {
        "colab": {
          "base_uri": "https://localhost:8080/",
          "height": 661
        },
        "id": "0-VGkZG5l7HB",
        "outputId": "63131285-a434-4eac-ff1b-2c72fdeef0bd"
      },
      "execution_count": 4,
      "outputs": [
        {
          "output_type": "execute_result",
          "data": {
            "text/plain": [
              "       iso_code continent location        date  total_cases  new_cases  \\\n",
              "123786      RUS    Europe   Russia  2020-03-03          3.0        0.0   \n",
              "123787      RUS    Europe   Russia  2020-03-04          3.0        0.0   \n",
              "123788      RUS    Europe   Russia  2020-03-05          4.0        1.0   \n",
              "123789      RUS    Europe   Russia  2020-03-06         13.0        9.0   \n",
              "123790      RUS    Europe   Russia  2020-03-07         13.0        0.0   \n",
              "...         ...       ...      ...         ...          ...        ...   \n",
              "124514      RUS    Europe   Russia  2022-03-01   16257688.0    96092.0   \n",
              "124515      RUS    Europe   Russia  2022-03-02   16353868.0    96180.0   \n",
              "124516      RUS    Europe   Russia  2022-03-03   16445802.0    91934.0   \n",
              "124517      RUS    Europe   Russia  2022-03-04   16533932.0    88130.0   \n",
              "124518      RUS    Europe   Russia  2022-03-05   16619507.0    85575.0   \n",
              "\n",
              "        new_cases_smoothed  total_deaths  new_deaths  new_deaths_smoothed  \\\n",
              "123786               0.143           NaN         NaN                  NaN   \n",
              "123787               0.143           NaN         NaN                  NaN   \n",
              "123788               0.286           NaN         NaN                  NaN   \n",
              "123789               1.571           NaN         NaN                  NaN   \n",
              "123790               1.571           NaN         NaN                  NaN   \n",
              "...                    ...           ...         ...                  ...   \n",
              "124514          118164.000      345427.0       772.0              760.857   \n",
              "124515          112491.857      346197.0       770.0              760.714   \n",
              "124516          106875.429      346967.0       770.0              763.286   \n",
              "124517          102048.286      347730.0       763.0              761.857   \n",
              "124518           96895.143      348467.0       737.0              755.571   \n",
              "\n",
              "        ...  female_smokers  male_smokers  handwashing_facilities  \\\n",
              "123786  ...            23.4          58.3                     NaN   \n",
              "123787  ...            23.4          58.3                     NaN   \n",
              "123788  ...            23.4          58.3                     NaN   \n",
              "123789  ...            23.4          58.3                     NaN   \n",
              "123790  ...            23.4          58.3                     NaN   \n",
              "...     ...             ...           ...                     ...   \n",
              "124514  ...            23.4          58.3                     NaN   \n",
              "124515  ...            23.4          58.3                     NaN   \n",
              "124516  ...            23.4          58.3                     NaN   \n",
              "124517  ...            23.4          58.3                     NaN   \n",
              "124518  ...            23.4          58.3                     NaN   \n",
              "\n",
              "        hospital_beds_per_thousand  life_expectancy  human_development_index  \\\n",
              "123786                        8.05            72.58                    0.824   \n",
              "123787                        8.05            72.58                    0.824   \n",
              "123788                        8.05            72.58                    0.824   \n",
              "123789                        8.05            72.58                    0.824   \n",
              "123790                        8.05            72.58                    0.824   \n",
              "...                            ...              ...                      ...   \n",
              "124514                        8.05            72.58                    0.824   \n",
              "124515                        8.05            72.58                    0.824   \n",
              "124516                        8.05            72.58                    0.824   \n",
              "124517                        8.05            72.58                    0.824   \n",
              "124518                        8.05            72.58                    0.824   \n",
              "\n",
              "        excess_mortality_cumulative_absolute  excess_mortality_cumulative  \\\n",
              "123786                                   NaN                          NaN   \n",
              "123787                                   NaN                          NaN   \n",
              "123788                                   NaN                          NaN   \n",
              "123789                                   NaN                          NaN   \n",
              "123790                                   NaN                          NaN   \n",
              "...                                      ...                          ...   \n",
              "124514                                   NaN                          NaN   \n",
              "124515                                   NaN                          NaN   \n",
              "124516                                   NaN                          NaN   \n",
              "124517                                   NaN                          NaN   \n",
              "124518                                   NaN                          NaN   \n",
              "\n",
              "        excess_mortality  excess_mortality_cumulative_per_million  \n",
              "123786               NaN                                      NaN  \n",
              "123787               NaN                                      NaN  \n",
              "123788               NaN                                      NaN  \n",
              "123789               NaN                                      NaN  \n",
              "123790               NaN                                      NaN  \n",
              "...                  ...                                      ...  \n",
              "124514               NaN                                      NaN  \n",
              "124515               NaN                                      NaN  \n",
              "124516               NaN                                      NaN  \n",
              "124517               NaN                                      NaN  \n",
              "124518               NaN                                      NaN  \n",
              "\n",
              "[733 rows x 67 columns]"
            ],
            "text/html": [
              "\n",
              "  <div id=\"df-10437373-a766-41dc-98b4-4c237843b18f\">\n",
              "    <div class=\"colab-df-container\">\n",
              "      <div>\n",
              "<style scoped>\n",
              "    .dataframe tbody tr th:only-of-type {\n",
              "        vertical-align: middle;\n",
              "    }\n",
              "\n",
              "    .dataframe tbody tr th {\n",
              "        vertical-align: top;\n",
              "    }\n",
              "\n",
              "    .dataframe thead th {\n",
              "        text-align: right;\n",
              "    }\n",
              "</style>\n",
              "<table border=\"1\" class=\"dataframe\">\n",
              "  <thead>\n",
              "    <tr style=\"text-align: right;\">\n",
              "      <th></th>\n",
              "      <th>iso_code</th>\n",
              "      <th>continent</th>\n",
              "      <th>location</th>\n",
              "      <th>date</th>\n",
              "      <th>total_cases</th>\n",
              "      <th>new_cases</th>\n",
              "      <th>new_cases_smoothed</th>\n",
              "      <th>total_deaths</th>\n",
              "      <th>new_deaths</th>\n",
              "      <th>new_deaths_smoothed</th>\n",
              "      <th>...</th>\n",
              "      <th>female_smokers</th>\n",
              "      <th>male_smokers</th>\n",
              "      <th>handwashing_facilities</th>\n",
              "      <th>hospital_beds_per_thousand</th>\n",
              "      <th>life_expectancy</th>\n",
              "      <th>human_development_index</th>\n",
              "      <th>excess_mortality_cumulative_absolute</th>\n",
              "      <th>excess_mortality_cumulative</th>\n",
              "      <th>excess_mortality</th>\n",
              "      <th>excess_mortality_cumulative_per_million</th>\n",
              "    </tr>\n",
              "  </thead>\n",
              "  <tbody>\n",
              "    <tr>\n",
              "      <th>123786</th>\n",
              "      <td>RUS</td>\n",
              "      <td>Europe</td>\n",
              "      <td>Russia</td>\n",
              "      <td>2020-03-03</td>\n",
              "      <td>3.0</td>\n",
              "      <td>0.0</td>\n",
              "      <td>0.143</td>\n",
              "      <td>NaN</td>\n",
              "      <td>NaN</td>\n",
              "      <td>NaN</td>\n",
              "      <td>...</td>\n",
              "      <td>23.4</td>\n",
              "      <td>58.3</td>\n",
              "      <td>NaN</td>\n",
              "      <td>8.05</td>\n",
              "      <td>72.58</td>\n",
              "      <td>0.824</td>\n",
              "      <td>NaN</td>\n",
              "      <td>NaN</td>\n",
              "      <td>NaN</td>\n",
              "      <td>NaN</td>\n",
              "    </tr>\n",
              "    <tr>\n",
              "      <th>123787</th>\n",
              "      <td>RUS</td>\n",
              "      <td>Europe</td>\n",
              "      <td>Russia</td>\n",
              "      <td>2020-03-04</td>\n",
              "      <td>3.0</td>\n",
              "      <td>0.0</td>\n",
              "      <td>0.143</td>\n",
              "      <td>NaN</td>\n",
              "      <td>NaN</td>\n",
              "      <td>NaN</td>\n",
              "      <td>...</td>\n",
              "      <td>23.4</td>\n",
              "      <td>58.3</td>\n",
              "      <td>NaN</td>\n",
              "      <td>8.05</td>\n",
              "      <td>72.58</td>\n",
              "      <td>0.824</td>\n",
              "      <td>NaN</td>\n",
              "      <td>NaN</td>\n",
              "      <td>NaN</td>\n",
              "      <td>NaN</td>\n",
              "    </tr>\n",
              "    <tr>\n",
              "      <th>123788</th>\n",
              "      <td>RUS</td>\n",
              "      <td>Europe</td>\n",
              "      <td>Russia</td>\n",
              "      <td>2020-03-05</td>\n",
              "      <td>4.0</td>\n",
              "      <td>1.0</td>\n",
              "      <td>0.286</td>\n",
              "      <td>NaN</td>\n",
              "      <td>NaN</td>\n",
              "      <td>NaN</td>\n",
              "      <td>...</td>\n",
              "      <td>23.4</td>\n",
              "      <td>58.3</td>\n",
              "      <td>NaN</td>\n",
              "      <td>8.05</td>\n",
              "      <td>72.58</td>\n",
              "      <td>0.824</td>\n",
              "      <td>NaN</td>\n",
              "      <td>NaN</td>\n",
              "      <td>NaN</td>\n",
              "      <td>NaN</td>\n",
              "    </tr>\n",
              "    <tr>\n",
              "      <th>123789</th>\n",
              "      <td>RUS</td>\n",
              "      <td>Europe</td>\n",
              "      <td>Russia</td>\n",
              "      <td>2020-03-06</td>\n",
              "      <td>13.0</td>\n",
              "      <td>9.0</td>\n",
              "      <td>1.571</td>\n",
              "      <td>NaN</td>\n",
              "      <td>NaN</td>\n",
              "      <td>NaN</td>\n",
              "      <td>...</td>\n",
              "      <td>23.4</td>\n",
              "      <td>58.3</td>\n",
              "      <td>NaN</td>\n",
              "      <td>8.05</td>\n",
              "      <td>72.58</td>\n",
              "      <td>0.824</td>\n",
              "      <td>NaN</td>\n",
              "      <td>NaN</td>\n",
              "      <td>NaN</td>\n",
              "      <td>NaN</td>\n",
              "    </tr>\n",
              "    <tr>\n",
              "      <th>123790</th>\n",
              "      <td>RUS</td>\n",
              "      <td>Europe</td>\n",
              "      <td>Russia</td>\n",
              "      <td>2020-03-07</td>\n",
              "      <td>13.0</td>\n",
              "      <td>0.0</td>\n",
              "      <td>1.571</td>\n",
              "      <td>NaN</td>\n",
              "      <td>NaN</td>\n",
              "      <td>NaN</td>\n",
              "      <td>...</td>\n",
              "      <td>23.4</td>\n",
              "      <td>58.3</td>\n",
              "      <td>NaN</td>\n",
              "      <td>8.05</td>\n",
              "      <td>72.58</td>\n",
              "      <td>0.824</td>\n",
              "      <td>NaN</td>\n",
              "      <td>NaN</td>\n",
              "      <td>NaN</td>\n",
              "      <td>NaN</td>\n",
              "    </tr>\n",
              "    <tr>\n",
              "      <th>...</th>\n",
              "      <td>...</td>\n",
              "      <td>...</td>\n",
              "      <td>...</td>\n",
              "      <td>...</td>\n",
              "      <td>...</td>\n",
              "      <td>...</td>\n",
              "      <td>...</td>\n",
              "      <td>...</td>\n",
              "      <td>...</td>\n",
              "      <td>...</td>\n",
              "      <td>...</td>\n",
              "      <td>...</td>\n",
              "      <td>...</td>\n",
              "      <td>...</td>\n",
              "      <td>...</td>\n",
              "      <td>...</td>\n",
              "      <td>...</td>\n",
              "      <td>...</td>\n",
              "      <td>...</td>\n",
              "      <td>...</td>\n",
              "      <td>...</td>\n",
              "    </tr>\n",
              "    <tr>\n",
              "      <th>124514</th>\n",
              "      <td>RUS</td>\n",
              "      <td>Europe</td>\n",
              "      <td>Russia</td>\n",
              "      <td>2022-03-01</td>\n",
              "      <td>16257688.0</td>\n",
              "      <td>96092.0</td>\n",
              "      <td>118164.000</td>\n",
              "      <td>345427.0</td>\n",
              "      <td>772.0</td>\n",
              "      <td>760.857</td>\n",
              "      <td>...</td>\n",
              "      <td>23.4</td>\n",
              "      <td>58.3</td>\n",
              "      <td>NaN</td>\n",
              "      <td>8.05</td>\n",
              "      <td>72.58</td>\n",
              "      <td>0.824</td>\n",
              "      <td>NaN</td>\n",
              "      <td>NaN</td>\n",
              "      <td>NaN</td>\n",
              "      <td>NaN</td>\n",
              "    </tr>\n",
              "    <tr>\n",
              "      <th>124515</th>\n",
              "      <td>RUS</td>\n",
              "      <td>Europe</td>\n",
              "      <td>Russia</td>\n",
              "      <td>2022-03-02</td>\n",
              "      <td>16353868.0</td>\n",
              "      <td>96180.0</td>\n",
              "      <td>112491.857</td>\n",
              "      <td>346197.0</td>\n",
              "      <td>770.0</td>\n",
              "      <td>760.714</td>\n",
              "      <td>...</td>\n",
              "      <td>23.4</td>\n",
              "      <td>58.3</td>\n",
              "      <td>NaN</td>\n",
              "      <td>8.05</td>\n",
              "      <td>72.58</td>\n",
              "      <td>0.824</td>\n",
              "      <td>NaN</td>\n",
              "      <td>NaN</td>\n",
              "      <td>NaN</td>\n",
              "      <td>NaN</td>\n",
              "    </tr>\n",
              "    <tr>\n",
              "      <th>124516</th>\n",
              "      <td>RUS</td>\n",
              "      <td>Europe</td>\n",
              "      <td>Russia</td>\n",
              "      <td>2022-03-03</td>\n",
              "      <td>16445802.0</td>\n",
              "      <td>91934.0</td>\n",
              "      <td>106875.429</td>\n",
              "      <td>346967.0</td>\n",
              "      <td>770.0</td>\n",
              "      <td>763.286</td>\n",
              "      <td>...</td>\n",
              "      <td>23.4</td>\n",
              "      <td>58.3</td>\n",
              "      <td>NaN</td>\n",
              "      <td>8.05</td>\n",
              "      <td>72.58</td>\n",
              "      <td>0.824</td>\n",
              "      <td>NaN</td>\n",
              "      <td>NaN</td>\n",
              "      <td>NaN</td>\n",
              "      <td>NaN</td>\n",
              "    </tr>\n",
              "    <tr>\n",
              "      <th>124517</th>\n",
              "      <td>RUS</td>\n",
              "      <td>Europe</td>\n",
              "      <td>Russia</td>\n",
              "      <td>2022-03-04</td>\n",
              "      <td>16533932.0</td>\n",
              "      <td>88130.0</td>\n",
              "      <td>102048.286</td>\n",
              "      <td>347730.0</td>\n",
              "      <td>763.0</td>\n",
              "      <td>761.857</td>\n",
              "      <td>...</td>\n",
              "      <td>23.4</td>\n",
              "      <td>58.3</td>\n",
              "      <td>NaN</td>\n",
              "      <td>8.05</td>\n",
              "      <td>72.58</td>\n",
              "      <td>0.824</td>\n",
              "      <td>NaN</td>\n",
              "      <td>NaN</td>\n",
              "      <td>NaN</td>\n",
              "      <td>NaN</td>\n",
              "    </tr>\n",
              "    <tr>\n",
              "      <th>124518</th>\n",
              "      <td>RUS</td>\n",
              "      <td>Europe</td>\n",
              "      <td>Russia</td>\n",
              "      <td>2022-03-05</td>\n",
              "      <td>16619507.0</td>\n",
              "      <td>85575.0</td>\n",
              "      <td>96895.143</td>\n",
              "      <td>348467.0</td>\n",
              "      <td>737.0</td>\n",
              "      <td>755.571</td>\n",
              "      <td>...</td>\n",
              "      <td>23.4</td>\n",
              "      <td>58.3</td>\n",
              "      <td>NaN</td>\n",
              "      <td>8.05</td>\n",
              "      <td>72.58</td>\n",
              "      <td>0.824</td>\n",
              "      <td>NaN</td>\n",
              "      <td>NaN</td>\n",
              "      <td>NaN</td>\n",
              "      <td>NaN</td>\n",
              "    </tr>\n",
              "  </tbody>\n",
              "</table>\n",
              "<p>733 rows × 67 columns</p>\n",
              "</div>\n",
              "      <button class=\"colab-df-convert\" onclick=\"convertToInteractive('df-10437373-a766-41dc-98b4-4c237843b18f')\"\n",
              "              title=\"Convert this dataframe to an interactive table.\"\n",
              "              style=\"display:none;\">\n",
              "        \n",
              "  <svg xmlns=\"http://www.w3.org/2000/svg\" height=\"24px\"viewBox=\"0 0 24 24\"\n",
              "       width=\"24px\">\n",
              "    <path d=\"M0 0h24v24H0V0z\" fill=\"none\"/>\n",
              "    <path d=\"M18.56 5.44l.94 2.06.94-2.06 2.06-.94-2.06-.94-.94-2.06-.94 2.06-2.06.94zm-11 1L8.5 8.5l.94-2.06 2.06-.94-2.06-.94L8.5 2.5l-.94 2.06-2.06.94zm10 10l.94 2.06.94-2.06 2.06-.94-2.06-.94-.94-2.06-.94 2.06-2.06.94z\"/><path d=\"M17.41 7.96l-1.37-1.37c-.4-.4-.92-.59-1.43-.59-.52 0-1.04.2-1.43.59L10.3 9.45l-7.72 7.72c-.78.78-.78 2.05 0 2.83L4 21.41c.39.39.9.59 1.41.59.51 0 1.02-.2 1.41-.59l7.78-7.78 2.81-2.81c.8-.78.8-2.07 0-2.86zM5.41 20L4 18.59l7.72-7.72 1.47 1.35L5.41 20z\"/>\n",
              "  </svg>\n",
              "      </button>\n",
              "      \n",
              "  <style>\n",
              "    .colab-df-container {\n",
              "      display:flex;\n",
              "      flex-wrap:wrap;\n",
              "      gap: 12px;\n",
              "    }\n",
              "\n",
              "    .colab-df-convert {\n",
              "      background-color: #E8F0FE;\n",
              "      border: none;\n",
              "      border-radius: 50%;\n",
              "      cursor: pointer;\n",
              "      display: none;\n",
              "      fill: #1967D2;\n",
              "      height: 32px;\n",
              "      padding: 0 0 0 0;\n",
              "      width: 32px;\n",
              "    }\n",
              "\n",
              "    .colab-df-convert:hover {\n",
              "      background-color: #E2EBFA;\n",
              "      box-shadow: 0px 1px 2px rgba(60, 64, 67, 0.3), 0px 1px 3px 1px rgba(60, 64, 67, 0.15);\n",
              "      fill: #174EA6;\n",
              "    }\n",
              "\n",
              "    [theme=dark] .colab-df-convert {\n",
              "      background-color: #3B4455;\n",
              "      fill: #D2E3FC;\n",
              "    }\n",
              "\n",
              "    [theme=dark] .colab-df-convert:hover {\n",
              "      background-color: #434B5C;\n",
              "      box-shadow: 0px 1px 3px 1px rgba(0, 0, 0, 0.15);\n",
              "      filter: drop-shadow(0px 1px 2px rgba(0, 0, 0, 0.3));\n",
              "      fill: #FFFFFF;\n",
              "    }\n",
              "  </style>\n",
              "\n",
              "      <script>\n",
              "        const buttonEl =\n",
              "          document.querySelector('#df-10437373-a766-41dc-98b4-4c237843b18f button.colab-df-convert');\n",
              "        buttonEl.style.display =\n",
              "          google.colab.kernel.accessAllowed ? 'block' : 'none';\n",
              "\n",
              "        async function convertToInteractive(key) {\n",
              "          const element = document.querySelector('#df-10437373-a766-41dc-98b4-4c237843b18f');\n",
              "          const dataTable =\n",
              "            await google.colab.kernel.invokeFunction('convertToInteractive',\n",
              "                                                     [key], {});\n",
              "          if (!dataTable) return;\n",
              "\n",
              "          const docLinkHtml = 'Like what you see? Visit the ' +\n",
              "            '<a target=\"_blank\" href=https://colab.research.google.com/notebooks/data_table.ipynb>data table notebook</a>'\n",
              "            + ' to learn more about interactive tables.';\n",
              "          element.innerHTML = '';\n",
              "          dataTable['output_type'] = 'display_data';\n",
              "          await google.colab.output.renderOutput(dataTable, element);\n",
              "          const docLink = document.createElement('div');\n",
              "          docLink.innerHTML = docLinkHtml;\n",
              "          element.appendChild(docLink);\n",
              "        }\n",
              "      </script>\n",
              "    </div>\n",
              "  </div>\n",
              "  "
            ]
          },
          "metadata": {},
          "execution_count": 4
        }
      ]
    },
    {
      "cell_type": "code",
      "source": [
        "df['new_cases'] = df['new_cases'].replace(0.0, 1.0)\n",
        "df['day'] = df.index - df.index[0] + 1"
      ],
      "metadata": {
        "id": "YibpntbpH1D6",
        "colab": {
          "base_uri": "https://localhost:8080/"
        },
        "outputId": "f5defb94-3af5-48db-e950-0948c80a2b84"
      },
      "execution_count": 5,
      "outputs": [
        {
          "output_type": "stream",
          "name": "stderr",
          "text": [
            "/usr/local/lib/python3.7/dist-packages/ipykernel_launcher.py:1: SettingWithCopyWarning: \n",
            "A value is trying to be set on a copy of a slice from a DataFrame.\n",
            "Try using .loc[row_indexer,col_indexer] = value instead\n",
            "\n",
            "See the caveats in the documentation: https://pandas.pydata.org/pandas-docs/stable/user_guide/indexing.html#returning-a-view-versus-a-copy\n",
            "  \"\"\"Entry point for launching an IPython kernel.\n",
            "/usr/local/lib/python3.7/dist-packages/ipykernel_launcher.py:2: SettingWithCopyWarning: \n",
            "A value is trying to be set on a copy of a slice from a DataFrame.\n",
            "Try using .loc[row_indexer,col_indexer] = value instead\n",
            "\n",
            "See the caveats in the documentation: https://pandas.pydata.org/pandas-docs/stable/user_guide/indexing.html#returning-a-view-versus-a-copy\n",
            "  \n"
          ]
        }
      ]
    },
    {
      "cell_type": "code",
      "source": [
        "df = df[['day', 'total_cases','new_cases']]\n",
        "df"
      ],
      "metadata": {
        "colab": {
          "base_uri": "https://localhost:8080/",
          "height": 423
        },
        "id": "iVI9oMk_SEtz",
        "outputId": "b60f6a94-6845-4c08-89fe-4f32caad8af9"
      },
      "execution_count": 6,
      "outputs": [
        {
          "output_type": "execute_result",
          "data": {
            "text/plain": [
              "        day  total_cases  new_cases\n",
              "123786    1          3.0        1.0\n",
              "123787    2          3.0        1.0\n",
              "123788    3          4.0        1.0\n",
              "123789    4         13.0        9.0\n",
              "123790    5         13.0        1.0\n",
              "...     ...          ...        ...\n",
              "124514  729   16257688.0    96092.0\n",
              "124515  730   16353868.0    96180.0\n",
              "124516  731   16445802.0    91934.0\n",
              "124517  732   16533932.0    88130.0\n",
              "124518  733   16619507.0    85575.0\n",
              "\n",
              "[733 rows x 3 columns]"
            ],
            "text/html": [
              "\n",
              "  <div id=\"df-41b652e5-26bd-44ad-9200-3874b0edee6c\">\n",
              "    <div class=\"colab-df-container\">\n",
              "      <div>\n",
              "<style scoped>\n",
              "    .dataframe tbody tr th:only-of-type {\n",
              "        vertical-align: middle;\n",
              "    }\n",
              "\n",
              "    .dataframe tbody tr th {\n",
              "        vertical-align: top;\n",
              "    }\n",
              "\n",
              "    .dataframe thead th {\n",
              "        text-align: right;\n",
              "    }\n",
              "</style>\n",
              "<table border=\"1\" class=\"dataframe\">\n",
              "  <thead>\n",
              "    <tr style=\"text-align: right;\">\n",
              "      <th></th>\n",
              "      <th>day</th>\n",
              "      <th>total_cases</th>\n",
              "      <th>new_cases</th>\n",
              "    </tr>\n",
              "  </thead>\n",
              "  <tbody>\n",
              "    <tr>\n",
              "      <th>123786</th>\n",
              "      <td>1</td>\n",
              "      <td>3.0</td>\n",
              "      <td>1.0</td>\n",
              "    </tr>\n",
              "    <tr>\n",
              "      <th>123787</th>\n",
              "      <td>2</td>\n",
              "      <td>3.0</td>\n",
              "      <td>1.0</td>\n",
              "    </tr>\n",
              "    <tr>\n",
              "      <th>123788</th>\n",
              "      <td>3</td>\n",
              "      <td>4.0</td>\n",
              "      <td>1.0</td>\n",
              "    </tr>\n",
              "    <tr>\n",
              "      <th>123789</th>\n",
              "      <td>4</td>\n",
              "      <td>13.0</td>\n",
              "      <td>9.0</td>\n",
              "    </tr>\n",
              "    <tr>\n",
              "      <th>123790</th>\n",
              "      <td>5</td>\n",
              "      <td>13.0</td>\n",
              "      <td>1.0</td>\n",
              "    </tr>\n",
              "    <tr>\n",
              "      <th>...</th>\n",
              "      <td>...</td>\n",
              "      <td>...</td>\n",
              "      <td>...</td>\n",
              "    </tr>\n",
              "    <tr>\n",
              "      <th>124514</th>\n",
              "      <td>729</td>\n",
              "      <td>16257688.0</td>\n",
              "      <td>96092.0</td>\n",
              "    </tr>\n",
              "    <tr>\n",
              "      <th>124515</th>\n",
              "      <td>730</td>\n",
              "      <td>16353868.0</td>\n",
              "      <td>96180.0</td>\n",
              "    </tr>\n",
              "    <tr>\n",
              "      <th>124516</th>\n",
              "      <td>731</td>\n",
              "      <td>16445802.0</td>\n",
              "      <td>91934.0</td>\n",
              "    </tr>\n",
              "    <tr>\n",
              "      <th>124517</th>\n",
              "      <td>732</td>\n",
              "      <td>16533932.0</td>\n",
              "      <td>88130.0</td>\n",
              "    </tr>\n",
              "    <tr>\n",
              "      <th>124518</th>\n",
              "      <td>733</td>\n",
              "      <td>16619507.0</td>\n",
              "      <td>85575.0</td>\n",
              "    </tr>\n",
              "  </tbody>\n",
              "</table>\n",
              "<p>733 rows × 3 columns</p>\n",
              "</div>\n",
              "      <button class=\"colab-df-convert\" onclick=\"convertToInteractive('df-41b652e5-26bd-44ad-9200-3874b0edee6c')\"\n",
              "              title=\"Convert this dataframe to an interactive table.\"\n",
              "              style=\"display:none;\">\n",
              "        \n",
              "  <svg xmlns=\"http://www.w3.org/2000/svg\" height=\"24px\"viewBox=\"0 0 24 24\"\n",
              "       width=\"24px\">\n",
              "    <path d=\"M0 0h24v24H0V0z\" fill=\"none\"/>\n",
              "    <path d=\"M18.56 5.44l.94 2.06.94-2.06 2.06-.94-2.06-.94-.94-2.06-.94 2.06-2.06.94zm-11 1L8.5 8.5l.94-2.06 2.06-.94-2.06-.94L8.5 2.5l-.94 2.06-2.06.94zm10 10l.94 2.06.94-2.06 2.06-.94-2.06-.94-.94-2.06-.94 2.06-2.06.94z\"/><path d=\"M17.41 7.96l-1.37-1.37c-.4-.4-.92-.59-1.43-.59-.52 0-1.04.2-1.43.59L10.3 9.45l-7.72 7.72c-.78.78-.78 2.05 0 2.83L4 21.41c.39.39.9.59 1.41.59.51 0 1.02-.2 1.41-.59l7.78-7.78 2.81-2.81c.8-.78.8-2.07 0-2.86zM5.41 20L4 18.59l7.72-7.72 1.47 1.35L5.41 20z\"/>\n",
              "  </svg>\n",
              "      </button>\n",
              "      \n",
              "  <style>\n",
              "    .colab-df-container {\n",
              "      display:flex;\n",
              "      flex-wrap:wrap;\n",
              "      gap: 12px;\n",
              "    }\n",
              "\n",
              "    .colab-df-convert {\n",
              "      background-color: #E8F0FE;\n",
              "      border: none;\n",
              "      border-radius: 50%;\n",
              "      cursor: pointer;\n",
              "      display: none;\n",
              "      fill: #1967D2;\n",
              "      height: 32px;\n",
              "      padding: 0 0 0 0;\n",
              "      width: 32px;\n",
              "    }\n",
              "\n",
              "    .colab-df-convert:hover {\n",
              "      background-color: #E2EBFA;\n",
              "      box-shadow: 0px 1px 2px rgba(60, 64, 67, 0.3), 0px 1px 3px 1px rgba(60, 64, 67, 0.15);\n",
              "      fill: #174EA6;\n",
              "    }\n",
              "\n",
              "    [theme=dark] .colab-df-convert {\n",
              "      background-color: #3B4455;\n",
              "      fill: #D2E3FC;\n",
              "    }\n",
              "\n",
              "    [theme=dark] .colab-df-convert:hover {\n",
              "      background-color: #434B5C;\n",
              "      box-shadow: 0px 1px 3px 1px rgba(0, 0, 0, 0.15);\n",
              "      filter: drop-shadow(0px 1px 2px rgba(0, 0, 0, 0.3));\n",
              "      fill: #FFFFFF;\n",
              "    }\n",
              "  </style>\n",
              "\n",
              "      <script>\n",
              "        const buttonEl =\n",
              "          document.querySelector('#df-41b652e5-26bd-44ad-9200-3874b0edee6c button.colab-df-convert');\n",
              "        buttonEl.style.display =\n",
              "          google.colab.kernel.accessAllowed ? 'block' : 'none';\n",
              "\n",
              "        async function convertToInteractive(key) {\n",
              "          const element = document.querySelector('#df-41b652e5-26bd-44ad-9200-3874b0edee6c');\n",
              "          const dataTable =\n",
              "            await google.colab.kernel.invokeFunction('convertToInteractive',\n",
              "                                                     [key], {});\n",
              "          if (!dataTable) return;\n",
              "\n",
              "          const docLinkHtml = 'Like what you see? Visit the ' +\n",
              "            '<a target=\"_blank\" href=https://colab.research.google.com/notebooks/data_table.ipynb>data table notebook</a>'\n",
              "            + ' to learn more about interactive tables.';\n",
              "          element.innerHTML = '';\n",
              "          dataTable['output_type'] = 'display_data';\n",
              "          await google.colab.output.renderOutput(dataTable, element);\n",
              "          const docLink = document.createElement('div');\n",
              "          docLink.innerHTML = docLinkHtml;\n",
              "          element.appendChild(docLink);\n",
              "        }\n",
              "      </script>\n",
              "    </div>\n",
              "  </div>\n",
              "  "
            ]
          },
          "metadata": {},
          "execution_count": 6
        }
      ]
    },
    {
      "cell_type": "code",
      "source": [
        "df.shape"
      ],
      "metadata": {
        "colab": {
          "base_uri": "https://localhost:8080/"
        },
        "id": "mmtVWCWdaFa0",
        "outputId": "1f48c43d-e722-456b-c57c-84b18ea8bf76"
      },
      "execution_count": 7,
      "outputs": [
        {
          "output_type": "execute_result",
          "data": {
            "text/plain": [
              "(733, 3)"
            ]
          },
          "metadata": {},
          "execution_count": 7
        }
      ]
    },
    {
      "cell_type": "code",
      "source": [
        "df_train = df[:50]\n",
        "day_train, total_cases_train, new_cases_train = df_train['day'], df_train['total_cases'], df_train['new_cases']\n",
        "df_test = df[50:]\n",
        "day_test, total_cases_test, new_cases_test = df_test['day'], df_test['total_cases'], df_test['new_cases']\n"
      ],
      "metadata": {
        "id": "Ap5-XEM-ShrT"
      },
      "execution_count": 8,
      "outputs": []
    },
    {
      "cell_type": "markdown",
      "source": [
        "2"
      ],
      "metadata": {
        "id": "4_QuUpHB1OtC"
      }
    },
    {
      "cell_type": "code",
      "source": [
        "plt.plot(day_train, total_cases_train)\n"
      ],
      "metadata": {
        "colab": {
          "base_uri": "https://localhost:8080/",
          "height": 282
        },
        "id": "KXq9Yj2VUIL-",
        "outputId": "a5e564df-f43c-4885-fb42-35571c391903"
      },
      "execution_count": 9,
      "outputs": [
        {
          "output_type": "execute_result",
          "data": {
            "text/plain": [
              "[<matplotlib.lines.Line2D at 0x7fdb8c1a63d0>]"
            ]
          },
          "metadata": {},
          "execution_count": 9
        },
        {
          "output_type": "display_data",
          "data": {
            "text/plain": [
              "<Figure size 432x288 with 1 Axes>"
            ],
            "image/png": "[encoded data removed]"
          },
          "metadata": {
            "needs_background": "light"
          }
        }
      ]
    },
    {
      "cell_type": "code",
      "source": [
        "plt.plot(day_test, total_cases_test)"
      ],
      "metadata": {
        "colab": {
          "base_uri": "https://localhost:8080/",
          "height": 294
        },
        "id": "ig53GLoJUrQH",
        "outputId": "54b53178-a10d-4923-ba48-25f5cfc8bf24"
      },
      "execution_count": 10,
      "outputs": [
        {
          "output_type": "execute_result",
          "data": {
            "text/plain": [
              "[<matplotlib.lines.Line2D at 0x7fdb8b335a10>]"
            ]
          },
          "metadata": {},
          "execution_count": 10
        },
        {
          "output_type": "display_data",
          "data": {
            "text/plain": [
              "<Figure size 432x288 with 1 Axes>"
            ],
            "image/png": "[encoded data removed]"
          },
          "metadata": {
            "needs_background": "light"
          }
        }
      ]
    },
    {
      "cell_type": "markdown",
      "source": [
        "2A"
      ],
      "metadata": {
        "id": "h66rWbNa1RYd"
      }
    },
    {
      "cell_type": "code",
      "source": [
        "from sklearn.linear_model import LinearRegression"
      ],
      "metadata": {
        "id": "xCeX33xGU2AQ"
      },
      "execution_count": 11,
      "outputs": []
    },
    {
      "cell_type": "code",
      "source": [
        "reg_total = LinearRegression().fit(np.array(day_train).reshape(-1,1), np.array(np.log(total_cases_train)).reshape(-1,1))\n",
        "reg_new = LinearRegression().fit(np.array(day_train).reshape(-1,1), np.array(np.log(new_cases_train)).reshape(-1,1))\n",
        "total_cases_pred_train =  np.exp(reg_total.predict(np.array(day_train).reshape(-1,1))).flatten()\n",
        "new_cases_pred_train = np.exp(reg_new.predict(np.array(day_train).reshape(-1,1))).flatten()\n",
        "total_cases_pred_test = np.exp(reg_total.predict(np.array(day_test).reshape(-1,1))).flatten()\n",
        "new_cases_pred_test = np.exp(reg_new.predict(np.array(day_test).reshape(-1,1))).flatten()\n"
      ],
      "metadata": {
        "id": "yWHV-ylYm44k"
      },
      "execution_count": 12,
      "outputs": []
    },
    {
      "cell_type": "code",
      "source": [
        "plt.plot(np.array(day_test).reshape(-1,1),total_cases_pred_test)"
      ],
      "metadata": {
        "colab": {
          "base_uri": "https://localhost:8080/",
          "height": 294
        },
        "id": "4TUgzcdFp1fF",
        "outputId": "f39bc62b-c578-473c-8d6f-4807f8a00f2b"
      },
      "execution_count": 13,
      "outputs": [
        {
          "output_type": "execute_result",
          "data": {
            "text/plain": [
              "[<matplotlib.lines.Line2D at 0x7fdb8a591d90>]"
            ]
          },
          "metadata": {},
          "execution_count": 13
        },
        {
          "output_type": "display_data",
          "data": {
            "text/plain": [
              "<Figure size 432x288 with 1 Axes>"
            ],
            "image/png": "[encoded data removed]"
          },
          "metadata": {
            "needs_background": "light"
          }
        }
      ]
    },
    {
      "cell_type": "code",
      "source": [
        "plt.plot(np.array(day_test).reshape(-1,1),new_cases_pred_test)"
      ],
      "metadata": {
        "colab": {
          "base_uri": "https://localhost:8080/",
          "height": 294
        },
        "id": "KiuZEwb3MSqv",
        "outputId": "6f4d5323-8d46-42ff-f565-a085915d8553"
      },
      "execution_count": 14,
      "outputs": [
        {
          "output_type": "execute_result",
          "data": {
            "text/plain": [
              "[<matplotlib.lines.Line2D at 0x7fdb8a50dbd0>]"
            ]
          },
          "metadata": {},
          "execution_count": 14
        },
        {
          "output_type": "display_data",
          "data": {
            "text/plain": [
              "<Figure size 432x288 with 1 Axes>"
            ],
            "image/png": "[encoded data removed]"
          },
          "metadata": {
            "needs_background": "light"
          }
        }
      ]
    },
    {
      "cell_type": "markdown",
      "source": [
        "2B"
      ],
      "metadata": {
        "id": "MeQRgmR61XyS"
      }
    },
    {
      "cell_type": "code",
      "source": [
        "alpha = 1_000\n",
        "m_0 = np.zeros(2)\n",
        "sigma_0 = np.array([1 / alpha, 0, 0, 1 / alpha]).reshape(2, 2)\n",
        "xs = np.dstack((np.ones(len(day_train)), day_train)).reshape(50, 2)\n",
        "variance = np.var(np.log(total_cases_pred_train) - np.log(total_cases_train))\n",
        "sigma_n = np.linalg.inv(np.linalg.inv(sigma_0) + (1 / variance)*xs.T @ xs)\n",
        "m_n = sigma_n @ (np.linalg.inv(sigma_0) @ m_0 + (1 / variance) * xs.T @ np.log(total_cases_train))"
      ],
      "metadata": {
        "id": "opr5-9cGqZya"
      },
      "execution_count": 15,
      "outputs": []
    },
    {
      "cell_type": "code",
      "source": [
        "variance"
      ],
      "metadata": {
        "colab": {
          "base_uri": "https://localhost:8080/"
        },
        "id": "BrROLvPk-rlN",
        "outputId": "50427b55-7d5e-4871-b17d-4c50c6b0be2a"
      },
      "execution_count": 16,
      "outputs": [
        {
          "output_type": "execute_result",
          "data": {
            "text/plain": [
              "0.12183046154391235"
            ]
          },
          "metadata": {},
          "execution_count": 16
        }
      ]
    },
    {
      "cell_type": "code",
      "source": [
        "sigma_0"
      ],
      "metadata": {
        "colab": {
          "base_uri": "https://localhost:8080/"
        },
        "id": "EYYrIfv148Bn",
        "outputId": "6b319892-d588-48f1-9b4e-0f380786c870"
      },
      "execution_count": 17,
      "outputs": [
        {
          "output_type": "execute_result",
          "data": {
            "text/plain": [
              "array([[0.001, 0.   ],\n",
              "       [0.   , 0.001]])"
            ]
          },
          "metadata": {},
          "execution_count": 17
        }
      ]
    },
    {
      "cell_type": "code",
      "source": [
        "sigma_n"
      ],
      "metadata": {
        "id": "T4AmKYCXqlOH",
        "colab": {
          "base_uri": "https://localhost:8080/"
        },
        "outputId": "28f76ed1-5dfb-4558-9270-4df737249a2a"
      },
      "execution_count": 18,
      "outputs": [
        {
          "output_type": "execute_result",
          "data": {
            "text/plain": [
              "array([[ 9.08732542e-04, -2.69156632e-05],\n",
              "       [-2.69156632e-05,  3.62739673e-06]])"
            ]
          },
          "metadata": {},
          "execution_count": 18
        }
      ]
    },
    {
      "cell_type": "code",
      "source": [
        "m_n"
      ],
      "metadata": {
        "colab": {
          "base_uri": "https://localhost:8080/"
        },
        "id": "2BMcA-zRhgjj",
        "outputId": "d1929949-75c1-4d6b-cf9b-f97e3b18fbdf"
      },
      "execution_count": 19,
      "outputs": [
        {
          "output_type": "execute_result",
          "data": {
            "text/plain": [
              "array([0.15341367, 0.24124085])"
            ]
          },
          "metadata": {},
          "execution_count": 19
        }
      ]
    },
    {
      "cell_type": "markdown",
      "source": [
        "2C"
      ],
      "metadata": {
        "id": "kcMXp3KR1bJC"
      }
    },
    {
      "cell_type": "code",
      "source": [
        "n = 100\n",
        "mu = m_n\n",
        "sigma = sigma_n"
      ],
      "metadata": {
        "id": "ok_ZtFmNloX4"
      },
      "execution_count": 20,
      "outputs": []
    },
    {
      "cell_type": "code",
      "source": [
        "my_w = np.random.multivariate_normal(mu, sigma, n)\n",
        "for w in my_w:\n",
        "    plt.plot(xs, np.exp(w[0] + w[1]*xs))"
      ],
      "metadata": {
        "colab": {
          "base_uri": "https://localhost:8080/",
          "height": 265
        },
        "id": "cjDcestcrvEL",
        "outputId": "2a441573-5694-44ba-95aa-53758ac7b113"
      },
      "execution_count": 21,
      "outputs": [
        {
          "output_type": "display_data",
          "data": {
            "text/plain": [
              "<Figure size 432x288 with 1 Axes>"
            ],
            "image/png": "[encoded data removed]"
          },
          "metadata": {
            "needs_background": "light"
          }
        }
      ]
    },
    {
      "cell_type": "code",
      "source": [
        "MAY = (datetime(2020, 5, 1) - date_before).days\n",
        "JUNE = (datetime(2020, 6, 1) - date_before).days\n",
        "SEP = (datetime(2020, 9, 1) - date_before).days"
      ],
      "metadata": {
        "id": "VqcI71e9DlGj"
      },
      "execution_count": 22,
      "outputs": []
    },
    {
      "cell_type": "code",
      "source": [
        "day_pred = np.exp(my_w @ np.array([\n",
        "    np.ones(3),\n",
        "    [MAY, JUNE, SEP]\n",
        "]))"
      ],
      "metadata": {
        "id": "O6eUyLdJyCGx"
      },
      "execution_count": 23,
      "outputs": []
    },
    {
      "cell_type": "code",
      "source": [
        "sns.displot(day_pred[:, 0]);\n",
        "plt.title(\"1 May\");\n"
      ],
      "metadata": {
        "colab": {
          "base_uri": "https://localhost:8080/",
          "height": 385
        },
        "id": "foPQzijv0Cpa",
        "outputId": "b01c3451-bab5-4d35-efbd-171739ed0a0c"
      },
      "execution_count": 24,
      "outputs": [
        {
          "output_type": "display_data",
          "data": {
            "text/plain": [
              "<Figure size 360x360 with 1 Axes>"
            ],
            "image/png": "[encoded data removed]"
          },
          "metadata": {
            "needs_background": "light"
          }
        }
      ]
    },
    {
      "cell_type": "code",
      "source": [
        "sns.displot(day_pred[:, 1]);\n",
        "plt.title(\"1 June \");\n"
      ],
      "metadata": {
        "colab": {
          "base_uri": "https://localhost:8080/",
          "height": 385
        },
        "id": "lgvcVSQW0I-4",
        "outputId": "9b0db957-d1b9-4c16-f460-352fa0c0167b"
      },
      "execution_count": 25,
      "outputs": [
        {
          "output_type": "display_data",
          "data": {
            "text/plain": [
              "<Figure size 360x360 with 1 Axes>"
            ],
            "image/png": "[encoded data removed]"
          },
          "metadata": {
            "needs_background": "light"
          }
        }
      ]
    },
    {
      "cell_type": "code",
      "source": [
        "sns.displot(day_pred[:, 2]);\n",
        "plt.title(\"1 September\");\n"
      ],
      "metadata": {
        "colab": {
          "base_uri": "https://localhost:8080/",
          "height": 384
        },
        "id": "ZbqtXxnB0SCB",
        "outputId": "558f6ebb-7078-4f33-ca5f-8581b479bcd1"
      },
      "execution_count": 26,
      "outputs": [
        {
          "output_type": "display_data",
          "data": {
            "text/plain": [
              "<Figure size 360x360 with 1 Axes>"
            ],
            "image/png": "[encoded data removed]"
          },
          "metadata": {
            "needs_background": "light"
          }
        }
      ]
    },
    {
      "cell_type": "markdown",
      "source": [
        "3A"
      ],
      "metadata": {
        "id": "rEfN-Vlq1d7z"
      }
    },
    {
      "cell_type": "code",
      "source": [
        "lin_reg = LinearRegression()\n",
        "x_train = np.column_stack([df_train[\"day\"], df_train[\"day\"] ** 2])\n",
        "y_train =  np.log(df_train[\"new_cases\"]).values\n",
        "lin_reg.fit(x_train, y_train)\n"
      ],
      "metadata": {
        "colab": {
          "base_uri": "https://localhost:8080/"
        },
        "id": "HfwTo6E00TlK",
        "outputId": "070526a7-2092-442b-c6ea-180574a37763"
      },
      "execution_count": 27,
      "outputs": [
        {
          "output_type": "execute_result",
          "data": {
            "text/plain": [
              "LinearRegression()"
            ]
          },
          "metadata": {},
          "execution_count": 27
        }
      ]
    },
    {
      "cell_type": "code",
      "source": [
        "y_pred_train = lin_reg.predict(x_train)\n",
        "\n",
        "plt.plot(\n",
        "    df_train[\"day\"], \n",
        "    df_train[\"total_cases\"],\n",
        "    label=\"Real\",\n",
        ");\n",
        "plt.plot(\n",
        "    df_train[\"day\"], \n",
        "    np.exp(y_pred_train).cumsum(), \n",
        "    label=\"Pred\",\n",
        "        color=\"r\"\n",
        ");\n"
      ],
      "metadata": {
        "colab": {
          "base_uri": "https://localhost:8080/",
          "height": 265
        },
        "id": "qN2PkAXw4VcL",
        "outputId": "7dbeccf6-c8db-4130-e462-6523dd24b130"
      },
      "execution_count": 28,
      "outputs": [
        {
          "output_type": "display_data",
          "data": {
            "text/plain": [
              "<Figure size 432x288 with 1 Axes>"
            ],
            "image/png": "[encoded data removed]"
          },
          "metadata": {
            "needs_background": "light"
          }
        }
      ]
    },
    {
      "cell_type": "code",
      "source": [
        "x_test = np.column_stack([df_test[\"day\"], df_test[\"day\"] ** 2])\n",
        "y_pred_test = lin_reg.predict(x_test)\n",
        "plt.plot(\n",
        "    df_test[\"day\"], \n",
        "    df_test[\"total_cases\"],\n",
        "    label=\"Real\",\n",
        ");\n",
        "plt.plot(\n",
        "    df_test[\"day\"], \n",
        "    np.exp(y_pred_test).cumsum(), \n",
        "    label=\"Pred\",\n",
        "        color=\"r\"\n",
        ");\n"
      ],
      "metadata": {
        "colab": {
          "base_uri": "https://localhost:8080/",
          "height": 276
        },
        "id": "u6dEyFAp6GLa",
        "outputId": "32d218d0-dd4d-49a3-f7f9-8e54dc322098"
      },
      "execution_count": 29,
      "outputs": [
        {
          "output_type": "display_data",
          "data": {
            "text/plain": [
              "<Figure size 432x288 with 1 Axes>"
            ],
            "image/png": "[encoded data removed]"
          },
          "metadata": {
            "needs_background": "light"
          }
        }
      ]
    },
    {
      "cell_type": "markdown",
      "source": [
        "3B"
      ],
      "metadata": {
        "id": "lJRXMhf49Y07"
      }
    },
    {
      "cell_type": "code",
      "source": [
        "y_pred_train = lin_reg.predict(x_train)\n",
        "sigma_noise = np.mean((y_train - y_pred_train)**2)\n",
        "xs = np.column_stack((np.ones(len(day_train)), x_train))\n",
        "\n",
        "\n",
        "alpha = 1_000\n",
        "m_0 = np.zeros(3)\n",
        "sigma_0 = np.array([1 / alpha, 0, 0, 0, 1 / alpha, 0, 0, 0, 1/alpha]).reshape(3, 3)\n",
        "variance = np.var(np.log(y_pred_train) - np.log(total_cases_train))\n",
        "\n",
        "sigma_n = np.linalg.inv(np.linalg.inv(sigma_0) + (1 / variance)*xs.T @ xs)\n",
        "mu_n = sigma_n @ (np.linalg.inv(sigma_0) @ m_0 + (1 / variance) * xs.T @ np.log(total_cases_train))"
      ],
      "metadata": {
        "colab": {
          "base_uri": "https://localhost:8080/"
        },
        "id": "NTNYX7GF9fZ7",
        "outputId": "be5c00c1-03ac-4ea7-8a18-88fa803e5fc4"
      },
      "execution_count": 30,
      "outputs": [
        {
          "output_type": "stream",
          "name": "stderr",
          "text": [
            "/usr/local/lib/python3.7/dist-packages/ipykernel_launcher.py:9: RuntimeWarning: invalid value encountered in log\n",
            "  if __name__ == '__main__':\n"
          ]
        }
      ]
    },
    {
      "cell_type": "code",
      "source": [
        "mu_n"
      ],
      "metadata": {
        "colab": {
          "base_uri": "https://localhost:8080/"
        },
        "id": "oZIWWYsHAHWx",
        "outputId": "e3e9483a-6506-45ec-f524-10fe1f8fc496"
      },
      "execution_count": 31,
      "outputs": [
        {
          "output_type": "execute_result",
          "data": {
            "text/plain": [
              "array([0.01251815, 0.14399158, 0.00235114])"
            ]
          },
          "metadata": {},
          "execution_count": 31
        }
      ]
    },
    {
      "cell_type": "code",
      "source": [
        "sigma_n"
      ],
      "metadata": {
        "colab": {
          "base_uri": "https://localhost:8080/"
        },
        "id": "Q7EzcidaA96Y",
        "outputId": "e5f95995-c70b-4cf6-8898-8831c5d6c50d"
      },
      "execution_count": 32,
      "outputs": [
        {
          "output_type": "execute_result",
          "data": {
            "text/plain": [
              "array([[ 9.96145129e-04, -3.21458181e-05,  1.44623638e-07],\n",
              "       [-3.21458181e-05,  5.93317379e-04, -1.46661099e-05],\n",
              "       [ 1.44623638e-07, -1.46661099e-05,  4.22322716e-07]])"
            ]
          },
          "metadata": {},
          "execution_count": 32
        }
      ]
    },
    {
      "cell_type": "markdown",
      "source": [
        "3C"
      ],
      "metadata": {
        "id": "tcRv4u3XBhWJ"
      }
    },
    {
      "cell_type": "code",
      "source": [
        "n = 100\n",
        "mu = mu_n\n",
        "sigma = sigma_n"
      ],
      "metadata": {
        "id": "zcnza3vaBifC"
      },
      "execution_count": 33,
      "outputs": []
    },
    {
      "cell_type": "code",
      "source": [
        "mu.shape, sigma.shape"
      ],
      "metadata": {
        "colab": {
          "base_uri": "https://localhost:8080/"
        },
        "id": "5OQaCAS9Ec6b",
        "outputId": "471021ea-0ab3-4e15-9490-45e65b4362f8"
      },
      "execution_count": 34,
      "outputs": [
        {
          "output_type": "execute_result",
          "data": {
            "text/plain": [
              "((3,), (3, 3))"
            ]
          },
          "metadata": {},
          "execution_count": 34
        }
      ]
    },
    {
      "cell_type": "code",
      "source": [
        "my_w = np.random.multivariate_normal(mu, sigma, n)\n",
        "for w in my_w:\n",
        "    plt.plot(df_train[\"day\"], np.exp(w.dot(xs.T)).cumsum())"
      ],
      "metadata": {
        "colab": {
          "base_uri": "https://localhost:8080/",
          "height": 276
        },
        "id": "6ZL0dbOzCuly",
        "outputId": "5fc9bf57-b7c6-40a4-a1bb-c819c206f5e4"
      },
      "execution_count": 35,
      "outputs": [
        {
          "output_type": "display_data",
          "data": {
            "text/plain": [
              "<Figure size 432x288 with 1 Axes>"
            ],
            "image/png": "[encoded data removed]"
          },
          "metadata": {
            "needs_background": "light"
          }
        }
      ]
    },
    {
      "cell_type": "code",
      "source": [
        ""
      ],
      "metadata": {
        "id": "3y4QxzL79ny0"
      },
      "execution_count": null,
      "outputs": []
    }
  ]
}