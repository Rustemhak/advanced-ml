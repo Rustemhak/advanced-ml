{
  "nbformat": 4,
  "nbformat_minor": 0,
  "metadata": {
    "colab": {
      "name": "AdvancedMLHW3.ipynb",
      "provenance": [],
      "collapsed_sections": []
    },
    "kernelspec": {
      "name": "python3",
      "display_name": "Python 3"
    },
    "language_info": {
      "name": "python"
    }
  },
  "cells": [
    {
      "cell_type": "markdown",
      "source": [
        "# Part 1"
      ],
      "metadata": {
        "id": "DaFSqwfs6QFB"
      }
    },
    {
      "cell_type": "code",
      "execution_count": 102,
      "metadata": {
        "id": "Fo0CG9Uzzsg_"
      },
      "outputs": [],
      "source": [
        "import numpy as np\n",
        "import pandas as pd\n",
        "import matplotlib.pyplot as plt\n",
        "import seaborn as sns\n",
        "import re\n",
        "from collections import Counter, defaultdict\n",
        "import random\n",
        "\n",
        "from tqdm.notebook import tqdm"
      ]
    },
    {
      "cell_type": "code",
      "source": [
        "PATH_AK = \"/content/drive/MyDrive/corpora/AnnaKarenina.txt\"\n",
        "PATH_WAP = \"/content/drive/MyDrive/corpora/WarAndPeace.txt\"\n",
        "PATH_WAP_ENG = \"/content/drive/MyDrive/corpora/WarAndPeaceEng.txt\""
      ],
      "metadata": {
        "id": "h02LptyfoM_z"
      },
      "execution_count": 103,
      "outputs": []
    },
    {
      "cell_type": "code",
      "source": [
        "eng_text = []\n",
        "with open(PATH_WAP_ENG, \"r\", encoding=\"utf8\") as f:\n",
        "    eng_text.append(f.read())\n",
        "eng_text = ' '.join(eng_text)"
      ],
      "metadata": {
        "id": "iP14WEOM1Xcy"
      },
      "execution_count": 104,
      "outputs": []
    },
    {
      "cell_type": "code",
      "source": [
        "ru_text = []\n",
        "\n",
        "with open(PATH_WAP, \"r\", encoding=\"utf8\") as f:\n",
        "    ru_text.append(f.read())\n",
        "with open(PATH_AK, \"r\", encoding=\"utf8\") as f:\n",
        "    ru_text.append(f.read())\n",
        "ru_text = ' '.join(ru_text)"
      ],
      "metadata": {
        "id": "0GXkKLjGKj0E"
      },
      "execution_count": 105,
      "outputs": []
    },
    {
      "cell_type": "code",
      "source": [
        "eng_text[:500]"
      ],
      "metadata": {
        "id": "E1J3S0oC3MGA",
        "colab": {
          "base_uri": "https://localhost:8080/",
          "height": 70
        },
        "outputId": "ea4bee0a-6fd3-475e-acf6-08a6111e9236"
      },
      "execution_count": 106,
      "outputs": [
        {
          "output_type": "execute_result",
          "data": {
            "text/plain": [
              "'\\ufeffThe Project Gutenberg EBook of War and Peace, by Leo Tolstoy\\n\\nThis eBook is for the use of anyone anywhere at no cost and with almost\\nno restrictions whatsoever.  You may copy it, give it away or re-use it\\nunder the terms of the Project Gutenberg License included with this\\neBook or online at www.gutenberg.org\\n\\n\\nTitle: War and Peace\\n\\nAuthor: Leo Tolstoy\\n\\nTranslators: Louise and Aylmer Maude\\n\\nPosting Date: January 10, 2009 [EBook #2600]\\n\\nLast Updated: March 15, 2013\\n\\nLanguage: English\\n\\n\\n*** START'"
            ],
            "application/vnd.google.colaboratory.intrinsic+json": {
              "type": "string"
            }
          },
          "metadata": {},
          "execution_count": 106
        }
      ]
    },
    {
      "cell_type": "markdown",
      "source": [
        "* подсчитайте частоты букв по корпусам (пунктуацию и капитализацию можно просто опустить, а вот пробелы лучше оставить);\n"
      ],
      "metadata": {
        "id": "CfufKMPu5N0U"
      }
    },
    {
      "cell_type": "code",
      "source": [
        "def clean_punkt_lower(text):\n",
        "    return re.sub(\"\\W+\",' ', text).lower()\n",
        "\n",
        "eng_text = clean_punkt_lower(eng_text)"
      ],
      "metadata": {
        "id": "BuQh9sNC4nc0"
      },
      "execution_count": 107,
      "outputs": []
    },
    {
      "cell_type": "code",
      "source": [
        "eng_text[:500]"
      ],
      "metadata": {
        "colab": {
          "base_uri": "https://localhost:8080/",
          "height": 70
        },
        "id": "AIr03zd45NQP",
        "outputId": "5bdf4d98-e66e-4411-999c-804bed5739c1"
      },
      "execution_count": 108,
      "outputs": [
        {
          "output_type": "execute_result",
          "data": {
            "text/plain": [
              "' the project gutenberg ebook of war and peace by leo tolstoy this ebook is for the use of anyone anywhere at no cost and with almost no restrictions whatsoever you may copy it give it away or re use it under the terms of the project gutenberg license included with this ebook or online at www gutenberg org title war and peace author leo tolstoy translators louise and aylmer maude posting date january 10 2009 ebook 2600 last updated march 15 2013 language english start of this project gutenberg eb'"
            ],
            "application/vnd.google.colaboratory.intrinsic+json": {
              "type": "string"
            }
          },
          "metadata": {},
          "execution_count": 108
        }
      ]
    },
    {
      "cell_type": "code",
      "source": [
        "count_freq = Counter(eng_text)\n",
        "\n",
        "count_freq_short = Counter(eng_text).most_common(10)\n",
        "count_freq_short"
      ],
      "metadata": {
        "colab": {
          "base_uri": "https://localhost:8080/"
        },
        "id": "pOI9UNqb5Pmq",
        "outputId": "06140f99-92ac-4999-9977-8b7bf82642f0"
      },
      "execution_count": 109,
      "outputs": [
        {
          "output_type": "execute_result",
          "data": {
            "text/plain": [
              "[(' ', 576610),\n",
              " ('e', 315233),\n",
              " ('t', 226406),\n",
              " ('a', 205806),\n",
              " ('o', 192879),\n",
              " ('n', 184173),\n",
              " ('i', 174281),\n",
              " ('h', 167404),\n",
              " ('s', 162891),\n",
              " ('r', 148428)]"
            ]
          },
          "metadata": {},
          "execution_count": 109
        }
      ]
    },
    {
      "cell_type": "code",
      "source": [
        "labels = []\n",
        "sizes = []\n",
        "for x, y in sorted(count_freq_short,key=lambda item: item[1], reverse=True):\n",
        "    labels.append(x)\n",
        "    sizes.append(y)\n",
        "# Plot\n",
        "plt.pie(sizes, labels=labels)\n",
        "plt.axis('equal')\n",
        "plt.show()"
      ],
      "metadata": {
        "colab": {
          "base_uri": "https://localhost:8080/",
          "height": 253
        },
        "id": "QhM_CFdu9tQt",
        "outputId": "279872c4-5170-4121-91ff-57790572e2cd"
      },
      "execution_count": 110,
      "outputs": [
        {
          "output_type": "display_data",
          "data": {
            "text/plain": [
              "<Figure size 432x288 with 1 Axes>"
            ],
            "image/png": "[encoded data removed]"
          },
          "metadata": {}
        }
      ]
    },
    {
      "cell_type": "markdown",
      "source": [
        "* возьмите какие-нибудь тестовые тексты (нужно взять по меньшей мере 2-3 предложения, иначе вряд ли сработает), зашифруйте их посредством случайной перестановки символов;"
      ],
      "metadata": {
        "id": "AD4mmAQnvMWv"
      }
    },
    {
      "cell_type": "code",
      "source": [
        "test = []\n",
        "for i in range(600, 1200 + 1, 300):\n",
        "    test.append(eng_text[-i:])"
      ],
      "metadata": {
        "id": "8INJ6QBD_hbX"
      },
      "execution_count": 111,
      "outputs": []
    },
    {
      "cell_type": "code",
      "source": [
        "print(*test, sep='\\n')"
      ],
      "metadata": {
        "colab": {
          "base_uri": "https://localhost:8080/"
        },
        "id": "NdNsWhBzsYTi",
        "outputId": "1dd9d6a1-1c49-4e3a-f448-9f7bfb5182c2"
      },
      "execution_count": 112,
      "outputs": [
        {
          "output_type": "stream",
          "name": "stdout",
          "text": [
            "ject gutenberg tm ebooks are often created from several printed editions all of which are confirmed as public domain in the u s unless a copyright notice is included thus we do not necessarily keep ebooks in compliance with any particular paper edition most people start at our web site which has the main pg search facility http www gutenberg org this web site includes information about project gutenberg tm including how to make donations to the project gutenberg literary archive foundation how to help produce our new ebooks and how to subscribe to our email newsletter to hear about new ebooks \n",
            "berg tm electronic works professor michael s hart is the originator of the project gutenberg tm concept of a library of electronic works that could be freely shared with anyone for thirty years he produced and distributed project gutenberg tm ebooks with only a loose network of volunteer support project gutenberg tm ebooks are often created from several printed editions all of which are confirmed as public domain in the u s unless a copyright notice is included thus we do not necessarily keep ebooks in compliance with any particular paper edition most people start at our web site which has the main pg search facility http www gutenberg org this web site includes information about project gutenberg tm including how to make donations to the project gutenberg literary archive foundation how to help produce our new ebooks and how to subscribe to our email newsletter to hear about new ebooks \n",
            "all staff please check the project gutenberg web pages for current donation methods and addresses donations are accepted in a number of other ways including checks online payments and credit card donations to donate please visit http pglaf org donate section 5 general information about project gutenberg tm electronic works professor michael s hart is the originator of the project gutenberg tm concept of a library of electronic works that could be freely shared with anyone for thirty years he produced and distributed project gutenberg tm ebooks with only a loose network of volunteer support project gutenberg tm ebooks are often created from several printed editions all of which are confirmed as public domain in the u s unless a copyright notice is included thus we do not necessarily keep ebooks in compliance with any particular paper edition most people start at our web site which has the main pg search facility http www gutenberg org this web site includes information about project gutenberg tm including how to make donations to the project gutenberg literary archive foundation how to help produce our new ebooks and how to subscribe to our email newsletter to hear about new ebooks \n"
          ]
        }
      ]
    },
    {
      "cell_type": "code",
      "source": [
        "def encode_text(text: str) -> str:\n",
        "    chars = list(set(text))\n",
        "    shuffled_chars = chars.copy()\n",
        "    random.shuffle(shuffled_chars)\n",
        "    d = dict(zip(chars, shuffled_chars))\n",
        "    encoded_text = [d[char] for char in text]\n",
        "    return ''.join(encoded_text)"
      ],
      "metadata": {
        "id": "AyqaCWs9AZly"
      },
      "execution_count": 113,
      "outputs": []
    },
    {
      "cell_type": "code",
      "source": [
        "encoded_test = [encode_text(text) for text in test] \n",
        "print(*encoded_test, sep='\\n')"
      ],
      "metadata": {
        "id": "gfZTI-aQAoGd",
        "colab": {
          "base_uri": "https://localhost:8080/"
        },
        "outputId": "37b0bab9-80ae-463d-daee-1c928699e630"
      },
      "execution_count": 114,
      "outputs": [
        {
          "output_type": "stream",
          "name": "stdout",
          "text": [
            "jcuwnkhwcbacoknwvncaiirmntocnifwcbnuoctwcdnfoivnmc cotlnpoebwcdncdeweibmntllnifngseusntocnuibfeovcdntmnphaleundivtebnebnwscnhnmnhblcmmntnuipyoekswnbiweucnemnebulhdcdnwshmngcndinbiwnbcucmmtoelynrccpncaiirmnebnuivpletbucngewsntbynptoweuhltonptpconcdeweibnvimwnpciplcnmwtowntwnihongcanmewcngseusnstmnwscnvtebnpknmctousnftuelewynswwpngggnkhwcbacoknioknwsemngcanmewcnebulhdcmnebfiovtweibntaihwnpoijcuwnkhwcbacoknwvnebulhdebknsignwinvtrcndibtweibmnwinwscnpoijcuwnkhwcbacoknlewcotoyntouse cnfihbdtweibnsignwinsclpnpoidhucnihonbcgncaiirmntbdnsignwinmhamuoeacnwinihoncvtelnbcgmlcwwconwinsctontaihwnbcgncaiirmn\n",
            "iv cegkevuvdg fhpdeaf roew fnvoof ekpdylvueoeyl gepoegyvef pcphlgf efnegyvew fjvdgecmgvhiv cegkedfhdvwgefneleupi l tefnevuvdg fhpdeaf roegylgedfmubeiven vvuteoyl vbeapgyelhtfhvenf egyp gtetvl oeyvew fbmdvbelhbebpog pimgvbew fjvdgecmgvhiv cegkeviffroeapgyefhuteleuffovehvgaf refnesfumhgvv eomwwf gew fjvdgecmgvhiv cegkeviffroel vefngvhed vlgvben fkeovsv luew phgvbevbpgpfhoeluuefneaypdyel vedfhnp kvbeloewmiupdebfklphephegyvemeoemhuvooeledfwt pcygehfgpdvepoephdumbvbegymoeavebfehfgehvdvool putervvweviffroephedfkwuplhdveapgyelhtewl gpdmul ewlwv evbpgpfhekfogewvfwuveogl gelgefm eavieopgveaypdyeyloegyveklphewceovl dyenldpupgteyggweaaaecmgvhiv cef cegypoeavieopgvephdumbvoephnf klgpfhelifmgew fjvdgecmgvhiv cegkephdumbphceyfaegfeklrvebfhlgpfhoegfegyvew fjvdgecmgvhiv ceupgv l tel dypsvenfmhblgpfheyfaegfeyvuwew fbmdvefm ehvaeviffroelhbeyfaegfeomiod pivegfefm evklpuehvaouvggv egfeyvl elifmgehvaeviffroe\n",
            "dffyrudkkyhfpdrpywtpwiyutpyhbjapwuy5cupgmpb5ynpmyhd5prykjbywcbbpguyvjgdu jgysputjvrydgvydvvbprrpryvjgdu jgrydbpydwwphupvy gydygcsmpbyjkyjutpbyndlry gwfcv g5ywtpwiryjgf gpyhdlspgurydgvywbpv uywdbvyvjgdu jgryujyvjgdupyhfpdrpyo r uytuuhyh5fdkyjb5yvjgdupyrpwu jgyey5pgpbdfy gkjbsdu jgydmjcuyhbjapwuy5cupgmpb5yusypfpwubjg wynjbiryhbjkprrjbys wtdpfyrytdbuy ryutpyjb 5 gdujbyjkyutpyhbjapwuy5cupgmpb5yusywjgwphuyjkydyf mbdblyjkypfpwubjg wynjbiryutduywjcfvympykbppflyrtdbpvyn utydgljgpykjbyut bulylpdbrytpyhbjvcwpvydgvyv rub mcupvyhbjapwuy5cupgmpb5yusypmjjiryn utyjgflydyfjjrpygpunjbiyjkyojfcguppbyrchhjbuyhbjapwuy5cupgmpb5yusypmjjirydbpyjkupgywbpdupvykbjsyrpopbdfyhb gupvypv u jgrydffyjkynt wtydbpywjgk bspvydryhcmf wyvjsd gy gyutpycyrycgfprrydywjhlb 5tuygju wpy ry gwfcvpvyutcrynpyvjygjuygpwprrdb flyipphypmjjiry gywjshf dgwpyn utydglyhdbu wcfdbyhdhpbypv u jgysjruyhpjhfpyrudbuyduyjcbynpmyr upynt wtytdryutpysd gyh5yrpdbwtykdw f ulytuuhynnny5cupgmpb5yjb5yut rynpmyr upy gwfcvpry gkjbsdu jgydmjcuyhbjapwuy5cupgmpb5yusy gwfcv g5ytjnyujysdipyvjgdu jgryujyutpyhbjapwuy5cupgmpb5yf upbdblydbwt opykjcgvdu jgytjnyujytpfhyhbjvcwpyjcbygpnypmjjirydgvytjnyujyrcmrwb mpyujyjcbypsd fygpnrfpuupbyujytpdbydmjcuygpnypmjjiry\n"
          ]
        }
      ]
    },
    {
      "cell_type": "markdown",
      "source": [
        "* расшифруйте их таким частотным методом."
      ],
      "metadata": {
        "id": "MFX9DTSE9fY5"
      }
    },
    {
      "cell_type": "code",
      "source": [
        "def unigramm_decoding(encoded_test, count_freq):\n",
        "    encoded_cnt = Counter(encoded_test).most_common()\n",
        "    train_cnt = count_freq.most_common(len(encoded_cnt))\n",
        "    return dict(zip([item[0] for item in  encoded_cnt], [item [0] for item in  train_cnt]))"
      ],
      "metadata": {
        "id": "8cy1FI-y9hWf"
      },
      "execution_count": 115,
      "outputs": []
    },
    {
      "cell_type": "code",
      "source": [
        "def decode_unigram_string(text, count_freq):\n",
        "    d = unigramm_decoding(text, count_freq)\n",
        "    decoded = [d[c] for c in text]\n",
        "    return \"\".join(decoded)"
      ],
      "metadata": {
        "id": "8Tkkj-VW9oAd"
      },
      "execution_count": 116,
      "outputs": []
    },
    {
      "cell_type": "code",
      "source": [
        "mapping = []\n",
        "for i in range(3):\n",
        "    mapping.append(unigramm_decoding(encoded_test[i],count_freq))\n",
        "print(*mapping, sep='\\n')"
      ],
      "metadata": {
        "colab": {
          "base_uri": "https://localhost:8080/"
        },
        "id": "SDOvrRIhEH7T",
        "outputId": "400a1a4b-5534-4663-fc51-c71e516a7a0c"
      },
      "execution_count": 117,
      "outputs": [
        {
          "output_type": "stream",
          "name": "stdout",
          "text": [
            "{'n': ' ', 'c': 'e', 'w': 't', 'i': 'a', 'e': 'o', 'b': 'n', 'o': 'i', 't': 'h', 'm': 's', 'u': 'r', 'h': 'd', 's': 'l', 'l': 'u', 'p': 'm', 'a': 'c', 'd': 'w', 'g': 'f', 'k': 'g', 'v': 'y', 'f': 'p', 'r': 'b', 'y': 'v', 'j': 'k', ' ': 'x'}\n",
            "{'e': ' ', 'v': 'e', 'f': 't', 'g': 'a', ' ': 'o', 'p': 'n', 'h': 'i', 'l': 'h', 'o': 's', 'd': 'r', 'y': 'd', 'm': 'l', 'u': 'u', 'w': 'm', 'i': 'c', 'b': 'w', 'a': 'f', 'c': 'g', 'k': 'y', 'n': 'p', 't': 'b', 'r': 'v', 'j': 'k', 's': 'x'}\n",
            "{'y': ' ', 'p': 'e', 'u': 't', 'j': 'a', 'b': 'o', 'g': 'n', 'd': 'i', ' ': 'h', 'r': 's', 'w': 'r', 't': 'd', 'v': 'l', 'f': 'u', 'h': 'm', 'c': 'c', '5': 'w', 'm': 'f', 'n': 'g', 'k': 'y', 's': 'p', 'l': 'b', 'i': 'v', 'a': 'k', 'o': 'x', 'e': 'j'}\n"
          ]
        }
      ]
    },
    {
      "cell_type": "code",
      "source": [
        "decoded = []\n",
        "for i in range(3):\n",
        "    decoded.append(decode_unigram_string(test[i],count_freq))\n",
        "print(*decoded, sep='\\n')"
      ],
      "metadata": {
        "colab": {
          "base_uri": "https://localhost:8080/"
        },
        "id": "bgi5g33lVHeV",
        "outputId": "ae191b84-e138-4cd8-d791-06ab44e89cb5"
      },
      "execution_count": 118,
      "outputs": [
        {
          "output_type": "stream",
          "name": "stdout",
          "text": [
            "kert gdtenceig ty ecaabs hie apten riehtew piay sexeihu miontew ewotoans huu ap florl hie ranpoiyew hs mdcuor wayhon on tle d s dnuess h ramvioglt natore os onrudwew tlds fe wa nat neresshiouv beem ecaabs on raymuohnre fotl hnv mhitorduhi mhmei ewotoan yast meamue sthit ht adi fec sote florl lhs tle yhon mg sehirl phrouotv lttm fff gdtenceig aig tlos fec sote onrudwes onpaiyhtoan hcadt miakert gdtenceig ty onrudwong laf ta yhbe wanhtoans ta tle miakert gdtenceig uoteihiv hirloxe padnwhtoan laf ta leum miawdre adi nef ecaabs hnw laf ta sdcsrioce ta adi eyhou nefsuettei ta lehi hcadt nef ecaabs \n",
            "ceog ay eueraotinr ftovs motpessto ynrdheu s dhoa ns ade tongnihato tp ade motkera glaeiceog ay rtirema tp h uncohob tp eueraotinr ftovs adha rtluw ce poeeub sdhoew fnad hibtie pto adnoab behos de motwlrew hiw wnsaonclaew motkera glaeiceog ay ecttvs fnad tiub h uttse ieaftov tp xtuliaeeo slmmtoa motkera glaeiceog ay ecttvs hoe tpaei roehaew poty sexeohu moniaew ewnantis huu tp fdnrd hoe rtipnoyew hs mlcunr wtyhni ni ade l s liuess h rtmbongda itanre ns nirulwew adls fe wt ita ieresshonub veem ecttvs ni rtymunhire fnad hib mhoanrluho mhmeo ewnanti ytsa metmue sahoa ha tlo fec snae fdnrd dhs ade yhni mg sehord phrnunab daam fff glaeiceog tog adns fec snae nirulwes niptoyhanti hctla motkera glaeiceog ay nirulwnig dtf at yhve wtihantis at ade motkera glaeiceog unaeohob hordnxe ptliwhanti dtf at deum motwlre tlo ief ecttvs hiw dtf at slcsronce at tlo eyhnu iefsueaaeo at deho hctla ief ecttvs \n",
            "iuu stiyy mueise rderv tde moakert wctenfeow gef miwes yao rcooent lanithan petdals inl illoesses lanithans ioe irremtel hn i ncpfeo ay atdeo gibs hnruclhnw rdervs anuhne mibpents inl roelht riol lanithans ta lanite mueise xhsht dttm mwuiy aow lanite serthan j weneoiu hnyaopithan ifact moakert wctenfeow tp euertoanhr gaovs moayessao phrdieu s diot hs tde aohwhnitao ay tde moakert wctenfeow tp ranremt ay i uhfoiob ay euertoanhr gaovs tdit racul fe yoeeub sdioel ghtd inbane yao tdhotb beios de moalcrel inl lhstohfctel moakert wctenfeow tp efaavs ghtd anub i uaase netgaov ay xaucnteeo scmmaot moakert wctenfeow tp efaavs ioe ayten roeitel yoap sexeoiu mohntel elhthans iuu ay gdhrd ioe ranyhopel is mcfuhr lapihn hn tde c s cnuess i rambohwdt nathre hs hnruclel tdcs ge la nat neressiohub veem efaavs hn rapmuhinre ghtd inb miothrcuio mimeo elhthan past meamue stiot it aco gef shte gdhrd dis tde pihn mw seiord yirhuhtb dttm ggg wctenfeow aow tdhs gef shte hnrucles hnyaopithan ifact moakert wctenfeow tp hnruclhnw dag ta pive lanithans ta tde moakert wctenfeow uhteoiob iordhxe yacnlithan dag ta deum moalcre aco neg efaavs inl dag ta scfsrohfe ta aco epihu negsuetteo ta deio ifact neg efaavs \n"
          ]
        }
      ]
    },
    {
      "cell_type": "code",
      "source": [
        "print(*test, sep='\\n')"
      ],
      "metadata": {
        "colab": {
          "base_uri": "https://localhost:8080/"
        },
        "id": "6tj0tfF1CwI-",
        "outputId": "6f73c978-82c6-4e3b-bd27-1535dbf74d34"
      },
      "execution_count": 119,
      "outputs": [
        {
          "output_type": "stream",
          "name": "stdout",
          "text": [
            "ject gutenberg tm ebooks are often created from several printed editions all of which are confirmed as public domain in the u s unless a copyright notice is included thus we do not necessarily keep ebooks in compliance with any particular paper edition most people start at our web site which has the main pg search facility http www gutenberg org this web site includes information about project gutenberg tm including how to make donations to the project gutenberg literary archive foundation how to help produce our new ebooks and how to subscribe to our email newsletter to hear about new ebooks \n",
            "berg tm electronic works professor michael s hart is the originator of the project gutenberg tm concept of a library of electronic works that could be freely shared with anyone for thirty years he produced and distributed project gutenberg tm ebooks with only a loose network of volunteer support project gutenberg tm ebooks are often created from several printed editions all of which are confirmed as public domain in the u s unless a copyright notice is included thus we do not necessarily keep ebooks in compliance with any particular paper edition most people start at our web site which has the main pg search facility http www gutenberg org this web site includes information about project gutenberg tm including how to make donations to the project gutenberg literary archive foundation how to help produce our new ebooks and how to subscribe to our email newsletter to hear about new ebooks \n",
            "all staff please check the project gutenberg web pages for current donation methods and addresses donations are accepted in a number of other ways including checks online payments and credit card donations to donate please visit http pglaf org donate section 5 general information about project gutenberg tm electronic works professor michael s hart is the originator of the project gutenberg tm concept of a library of electronic works that could be freely shared with anyone for thirty years he produced and distributed project gutenberg tm ebooks with only a loose network of volunteer support project gutenberg tm ebooks are often created from several printed editions all of which are confirmed as public domain in the u s unless a copyright notice is included thus we do not necessarily keep ebooks in compliance with any particular paper edition most people start at our web site which has the main pg search facility http www gutenberg org this web site includes information about project gutenberg tm including how to make donations to the project gutenberg literary archive foundation how to help produce our new ebooks and how to subscribe to our email newsletter to hear about new ebooks \n"
          ]
        }
      ]
    },
    {
      "cell_type": "code",
      "source": [
        "def accuracy(y_true, y_pred):\n",
        "    return round((np.array(list(y_true)) == np.array(list(y_pred))).mean(), 3)"
      ],
      "metadata": {
        "id": "UXCWxRevELDr"
      },
      "execution_count": 122,
      "outputs": []
    },
    {
      "cell_type": "code",
      "source": [
        "for i in range(3):\n",
        "    print(accuracy(test[i], decoded[i]))"
      ],
      "metadata": {
        "id": "uGbNC5oXEPJy",
        "colab": {
          "base_uri": "https://localhost:8080/"
        },
        "outputId": "3e2e583c-9c0e-4932-fc75-1b05add7e690"
      },
      "execution_count": 123,
      "outputs": [
        {
          "output_type": "stream",
          "name": "stdout",
          "text": [
            "0.467\n",
            "0.33\n",
            "0.447\n"
          ]
        }
      ]
    },
    {
      "cell_type": "markdown",
      "source": [
        "Максимальный результат - 0.467"
      ],
      "metadata": {
        "id": "Re7Dzv--cxrm"
      }
    },
    {
      "cell_type": "markdown",
      "source": [
        "# Part 2"
      ],
      "metadata": {
        "id": "fYpCwogupSnU"
      }
    },
    {
      "cell_type": "code",
      "source": [
        "def get_bigrams(text):\n",
        "    return [text[i:i+2] for i in range(len(text) - 1)]"
      ],
      "metadata": {
        "id": "8eW4jKttpUv5"
      },
      "execution_count": 124,
      "outputs": []
    },
    {
      "cell_type": "code",
      "source": [
        "def bigramm_decoding(encoded, train):\n",
        "    char_cnt = Counter(train).most_common()\n",
        "    encoded_cnt = Counter(encoded).most_common()\n",
        "    encoded_bigrams = Counter(get_bigrams(encoded)).most_common()\n",
        "    decoded_bigrams = Counter(get_bigrams(train)).most_common()\n",
        "    mapping = {}\n",
        "    used = set()\n",
        "    to_decode = set()\n",
        "    for enc, _ in encoded_bigrams:\n",
        "        if enc[0] in mapping and enc[1] in mapping:\n",
        "            continue\n",
        "        elif enc[0] in mapping:\n",
        "            mapped = mapping[enc[0]]\n",
        "            possible = [\n",
        "                dec for dec, _ in decoded_bigrams \n",
        "                if dec[0] == mapped and \n",
        "                dec[1] not in used\n",
        "            ]\n",
        "            if len(possible) > 1:\n",
        "                mapping[enc[1]] = possible[0][1]\n",
        "                used.add(possible[0][1])\n",
        "            else:\n",
        "                to_decode.add(enc[1])\n",
        "        elif enc[1] in mapping:\n",
        "            mapped = mapping[enc[1]]\n",
        "            possible = [\n",
        "                dec for dec, _ in decoded_bigrams\n",
        "                if dec[1] == mapped and \n",
        "                dec[0] not in used\n",
        "            ]\n",
        "            if len(possible) > 1:\n",
        "                mapping[enc[0]] = possible[0][0]\n",
        "                used.add(possible[0][0])\n",
        "            else:\n",
        "                to_decode.add(enc[0])\n",
        "        else:\n",
        "            possible = [\n",
        "                dec for dec, _ in decoded_bigrams \n",
        "                if dec[1] not in used and\n",
        "                dec[0] not in used\n",
        "            ]\n",
        "            mapping[enc[0]] = possible[0][0]\n",
        "            mapping[enc[1]] = possible[0][1]\n",
        "            \n",
        "    \n",
        "    encoded_cnt = [(var, cnt) for var, cnt in encoded_cnt if var in to_decode]\n",
        "    char_cnt = [(var, cnt) for var, cnt in char_cnt if var not in used]\n",
        "    for i, (enc, _) in enumerate(encoded_cnt):\n",
        "        mapping[enc] = char_cnt[i][0]\n",
        "    return mapping"
      ],
      "metadata": {
        "id": "MCCQL_8Y1ArE"
      },
      "execution_count": 125,
      "outputs": []
    },
    {
      "cell_type": "code",
      "source": [
        "mapping = []\n",
        "for i in range(3):\n",
        "    mapping.append(bigramm_decoding(encoded_test[i],eng_text))\n",
        "print(*mapping, sep='\\n')"
      ],
      "metadata": {
        "colab": {
          "base_uri": "https://localhost:8080/"
        },
        "id": "HenijFV71EMC",
        "outputId": "c24b5fdc-b1c7-42c7-e725-ab82728626f0"
      },
      "execution_count": 126,
      "outputs": [
        {
          "output_type": "stream",
          "name": "stdout",
          "text": [
            "{'c': 'e', 'n': ' ', 'm': 'e', 'w': 't', 't': 'a', 'o': 'n', 'e': 'd', 'b': ' ', 'p': 'h', 'k': 'd', 'i': 's', 'g': 'w', 's': 'o', 'h': ' ', 'a': 'r', 'd': 'l', 'u': 'i', 'v': 'm', 'r': 'u', 'l': 'g', 'y': 'y', 'j': 'v', 'f': 'b', ' ': 'c'}\n",
            "{'v': 'e', 'e': ' ', 'g': 't', 'o': 'e', 'l': 'a', 'w': 'h', ' ': 'n', 'f': 'd', 'h': ' ', 'y': ' ', 'a': 's', 'p': 'd', 'c': 'r', 'b': 'y', 'i': 'l', 'm': 'i', 'd': 'm', 't': 'o', 'r': 'v', 'n': 'u', 'k': 'g', 'u': 'c', 'j': 'j', 's': 'b'}\n",
            "{'p': 'e', 'y': ' ', 'r': 'e', 'j': ' ', 'g': 't', 'u': 't', 'd': 'a', 'h': 'h', 'b': ' ', ' ': 'i', 't': 'o', 'v': 'd', 'w': 'r', '5': 's', 'n': 'w', 'c': 'n', 'm': 'l', 'k': 'y', 'i': 'm', 'l': 'g', 'f': 'v', 'a': 'b', 's': 'c', 'o': 'f', 'e': 'p'}\n"
          ]
        }
      ]
    },
    {
      "cell_type": "code",
      "source": [
        "def decode_bigramm_string(text, train):\n",
        "    d = bigramm_decoding(text, train)\n",
        "    decoded = [d[c] for c in text]\n",
        "    return \"\".join(decoded)"
      ],
      "metadata": {
        "id": "YcQjvx_iELAJ"
      },
      "execution_count": 127,
      "outputs": []
    },
    {
      "cell_type": "code",
      "source": [
        "decoded = []\n",
        "for i in range(3):\n",
        "    decoded.append(decode_bigramm_string(test[i],eng_text))\n",
        "print(*decoded, sep='\\n')"
      ],
      "metadata": {
        "colab": {
          "base_uri": "https://localhost:8080/"
        },
        "id": "3VHDERm5Clo9",
        "outputId": "6e5a0a6e-e42d-4765-f4d4-da418fdcb765"
      },
      "execution_count": 128,
      "outputs": [
        {
          "output_type": "stream",
          "name": "stdout",
          "text": [
            "veit d te rend tm erssue ane sbte  ineatel bnsm eecenag hnd tel eldtds e agg sb wodio ane is bdnmel ae h rgdi lsmad  d  toe   e   geee a ishynddot  stdie de d ig lel to e we ls  st  eieeeandgy ueeh erssue d  ismhgda ie wdto a y hantdi gan hahen eldtds  mset heshge etant at s n wer edte wodio oae toe mad  hd eeanio baidgdty otth www d te rend snd tode wer edte d ig lee d bsnmatds  ars t hnsveit d te rend tm d ig ld d osw ts maue ls atds e ts toe hnsveit d te rend gdtenany aniodce bs  latds  osw ts oegh hnsl ie s n  ew erssue a l osw ts e reindre ts s n emadg  ewegetten ts oean ars t  ew erssue \n",
            "lenr tg ecemtnd dm sdnve hndueeedn gdm aec e  ant de t e dndrd atdn du t e hndjemt rite lenr tg md meht du a cdlnano du ecemtnd dm sdnve t at mdicy le uneeco e aney sdt  a od e udn t dnto oeane  e hndyimey a y ydetndlitey hndjemt rite lenr tg elddve sdt  d co a cddee  etsdnv du bdci teen eihhdnt hndjemt rite lenr tg elddve ane dute  mneatey undg eebenac hnd tey eydtdd e acc du s dm  ane md udngey ae hilcdm ydgad  d  t e i e i ceee a mdhondr t  dtdme de d mciyey t ie se yd  dt  emeeeandco veeh elddve d  mdghcda me sdt  a o hantdmican hahen eydtdd  gdet hedhce etant at din sel edte s dm   ae t e gad  hr eeanm  uamdcdto  tth sss rite lenr dnr t de sel edte d mciyee d udngatdd  aldit hndjemt rite lenr tg d mciyd r  ds td gave yd atdd e td t e hndjemt rite lenr cdtenano anm dbe udi yatdd   ds td  ech hndyime din  es elddve a y  ds td eilemndle td din egadc  esecetten td  ean aldit  es elddve \n",
            "avv etayy hveaee roerm toe h  bert sntetle s wel hasee y   rn  ett d tati t ceto de atd add eeeee d tati te a e arrehted it a tncle   y  toe  wage itrvndits roerme  tvite hagcette atd r edit ra d d tati te t  d tate hveaee fieit otth hsvay   s d tate eerti t p sete av ity  cati t al nt h  bert sntetle s tc evert  tir w  me h  yeee   ciroaev e oa t ie toe   isitat    y toe h  bert sntetle s tc r treht  y a vil a g  y evert  tir w  me toat r nvd le y eevg eoa ed wito atg te y   toi tg gea e oe h  dnred atd diet ilnted h  bert sntetle s tc el  me wito  tvg a v  ee tetw  m  y f vnttee  enhh  t h  bert sntetle s tc el  me a e  ytet r eated y  c eefe av h itted editi te avv  y woiro a e r tyi ced ae hnlvir d cait it toe n e ntveee a r hg isot t tire ie itrvnded tone we d  t t tereeea ivg meeh el  me it r chviatre wito atg ha tirnva  hahe  editi t c et he hve eta t at  n  wel eite woiro oae toe cait hs eea ro yarivitg otth www sntetle s   s toie wel eite itrvndee ity  cati t al nt h  bert sntetle s tc itrvndits o w t  came d tati te t  toe h  bert sntetle s vite a g a roife y ntdati t o w t  oevh h  dnre  n  tew el  me atd o w t  enler ile t   n  ecaiv tewevette  t  oea  al nt tew el  me \n"
          ]
        }
      ]
    },
    {
      "cell_type": "code",
      "source": [
        "for i in range(3):\n",
        "    print(accuracy(test[i], decoded[i]))"
      ],
      "metadata": {
        "colab": {
          "base_uri": "https://localhost:8080/"
        },
        "id": "AdPr7KF0EKEC",
        "outputId": "57c8007e-816f-4162-9936-04f5283fd949"
      },
      "execution_count": 129,
      "outputs": [
        {
          "output_type": "stream",
          "name": "stdout",
          "text": [
            "0.452\n",
            "0.4\n",
            "0.499\n"
          ]
        }
      ]
    },
    {
      "cell_type": "markdown",
      "source": [
        "Максимальный скор - 0.5"
      ],
      "metadata": {
        "id": "zMk54QjUEtXw"
      }
    },
    {
      "cell_type": "markdown",
      "source": [
        "# Part 3\n"
      ],
      "metadata": {
        "id": "n7Zi1I5UEwrh"
      }
    },
    {
      "cell_type": "code",
      "source": [
        "def random_swap(decode_chars):\n",
        "    \n",
        "    indexes = np.random.choice(np.arange(len(decode_chars)), size=2, replace=False)\n",
        "    left_id, right_id = indexes\n",
        "    new_decode = decode_chars[:]\n",
        "    new_decode[left_id], new_decode[right_id] = new_decode[right_id], new_decode[left_id]\n",
        "    return new_decode\n",
        "\n",
        "\n",
        "def calc_proba(bigrams, guess, m, char_to_id):\n",
        "    total = 0\n",
        "    for bigram, cnt in bigrams:\n",
        "        row_id = char_to_id[guess[bigram[0]]]\n",
        "        col_id = char_to_id[guess[bigram[1]]]\n",
        "        total += cnt * m[row_id, col_id]\n",
        "    return total"
      ],
      "metadata": {
        "id": "-dgAXEP2E81Z"
      },
      "execution_count": 130,
      "outputs": []
    },
    {
      "cell_type": "code",
      "source": [
        "def get_mcmc_mapping(encoded, train, n_epoches=20, n_iter=5000):\n",
        "    \n",
        "    encoded_bigrams = Counter(get_bigrams(encoded)).most_common()\n",
        "    decoded_bigrams = Counter(get_bigrams(train)).most_common()\n",
        "    \n",
        "    encoded_chars = list(set(encoded))\n",
        "    decoded_chars = list(set(train))\n",
        "\n",
        "    m = np.ones((len(decoded_chars), len(decoded_chars))) \n",
        "    char_to_id = {char: i for i, char in enumerate(decoded_chars)}\n",
        "    for bigram, cnt in decoded_bigrams:\n",
        "        row_id = char_to_id[bigram[0]]\n",
        "        col_id = char_to_id[bigram[1]]\n",
        "        m[row_id, col_id] += cnt\n",
        "    \n",
        "    m /= m.sum()\n",
        "    m = np.log(m)\n",
        "    \n",
        "    probas = []\n",
        "    mappings = []\n",
        "    \n",
        "    for _ in range(n_epoches):\n",
        "        decoded_chars = list(set(train))\n",
        "        guess = dict(zip(encoded_chars, decoded_chars))\n",
        "        previous_proba = calc_proba(encoded_bigrams, guess, m, char_to_id)\n",
        "        for i in range(n_iter):\n",
        "            new_decoded_chars = random_swap(decoded_chars)\n",
        "            new_guess = dict(zip(encoded_chars, new_decoded_chars))\n",
        "            new_proba = calc_proba(encoded_bigrams, new_guess, m, char_to_id)\n",
        "            if new_proba > previous_proba:\n",
        "                decoded_chars = new_decoded_chars\n",
        "                previous_proba = new_proba\n",
        "                guess = new_guess\n",
        "            elif np.exp(new_proba - previous_proba) > np.random.rand():\n",
        "                decoded_chars = new_decoded_chars\n",
        "                previous_proba = new_proba\n",
        "                guess = new_guess\n",
        "        probas.append(previous_proba)\n",
        "        mappings.append(guess)\n",
        "    best_index = np.argmax(probas)\n",
        "    return mappings[best_index]\n"
      ],
      "metadata": {
        "id": "ILzfImyHE_D5"
      },
      "execution_count": 135,
      "outputs": []
    },
    {
      "cell_type": "code",
      "source": [
        "mapping = []\n",
        "for i in range(3):\n",
        "    mapping.append(get_mcmc_mapping(encoded_test[i],eng_text))\n",
        "print(*mapping, sep='\\n')"
      ],
      "metadata": {
        "colab": {
          "base_uri": "https://localhost:8080/"
        },
        "id": "625_GdH5FFPC",
        "outputId": "4dccd39f-073d-449e-b074-a20183bbc83f"
      },
      "execution_count": 136,
      "outputs": [
        {
          "output_type": "stream",
          "name": "stdout",
          "text": [
            "{'c': 'e', ' ': 'x', 'n': ' ', 'l': 'l', 'u': 'c', 'j': 'k', 'y': 'y', 'm': 's', 'p': 'p', 'v': 'm', 'b': 'n', 'f': 'b', 's': 'h', 'w': 't', 'i': 'o', 'd': 'f', 'g': 'w', 'h': 'u', 'a': 'd', 't': 'a', 'e': 'i', 'o': 'r', 'k': 'g', 'r': 'v'}\n",
            "{'c': 'g', ' ': 'r', 'n': 'f', 'l': 'a', 'u': 'l', 'y': 'h', 'j': 'b', 'm': 'u', 'p': 'i', 'v': 'e', 'b': 'd', 'f': 'o', 's': 'z', 'w': 'p', 'i': 'v', 'd': 'c', 'g': 't', 'h': 'n', 'a': 'w', 't': 'y', 'e': ' ', 'o': 's', 'k': 'm', 'r': 'k'}\n",
            "{'c': 'u', ' ': 'i', 'n': 'w', 'l': 'y', 'u': 't', 'y': ' ', 'j': 'o', 'm': 'b', 'p': 'e', 'v': 'd', 'b': 'r', 'f': 'l', 's': 'm', 'w': 'c', 'i': 'k', 'd': 'a', 'g': 'n', 'h': 'p', 'a': 'v', 't': 'h', 'e': 'x', 'o': 'z', '5': 'g', 'k': 'f', 'r': 's'}\n"
          ]
        }
      ]
    },
    {
      "cell_type": "code",
      "source": [
        "def decode_mcmc_string(text, train,  n_epoches=20, n_iter=5000):\n",
        "    d = get_mcmc_mapping(text, train, n_epoches, n_iter)\n",
        "    decoded = [d[c] for c in text]\n",
        "    return \"\".join(decoded)"
      ],
      "metadata": {
        "id": "Qc-dpCC3HCAz"
      },
      "execution_count": 145,
      "outputs": []
    },
    {
      "cell_type": "code",
      "source": [
        "decoded = []\n",
        "for i in range(3):\n",
        "    decoded.append(decode_mcmc_string(test[i],eng_text))\n",
        "print(*decoded, sep='\\n')"
      ],
      "metadata": {
        "colab": {
          "base_uri": "https://localhost:8080/"
        },
        "id": "9xbW_uqGG-Wz",
        "outputId": "5b820b63-91c1-4004-b10e-1eee610c2124"
      },
      "execution_count": 138,
      "outputs": [
        {
          "output_type": "stream",
          "name": "stdout",
          "text": [
            "kect gutenderg tm edoovs are obten createf brom sexeral printef efitions all ob which are conbirmef as pudlic fomain in the u s unless a copyright notice is inclufef thus we fo not necessarily veep edoovs in compliance with any particular paper efition most people start at our wed site which has the main pg search bacility http www gutenderg org this wed site inclufes inbormation adout prokect gutenderg tm inclufing how to mave fonations to the prokect gutenderg literary archixe bounfation how to help profuce our new edoovs anf how to sudscride to our email newsletter to hear adout new edoovs \n",
            "verg tm electronic works professor michael s hart is the originator of the probect gutenverg tm concept of a livrary of electronic works that could ve freely shared with anyone for thirty years he produced and distrivuted probect gutenverg tm evooks with only a loose network of zolunteer support probect gutenverg tm evooks are often created from sezeral printed editions all of which are confirmed as puvlic domain in the u s unless a copyright notice is included thus we do not necessarily keep evooks in compliance with any particular paper edition most people start at our wev site which has the main pg search facility http www gutenverg org this wev site includes information avout probect gutenverg tm including how to make donations to the probect gutenverg literary archize foundation how to help produce our new evooks and how to suvscrive to our email newsletter to hear avout new evooks \n",
            "all staff please check the probect gutenverg wev pages for current donation methods and addresses donations are accepted in a numver of other ways including checks online payments and credit card donations to donate please zisit http pglaf org donate section x general information avout probect gutenverg tm electronic works professor michael s hart is the originator of the probect gutenverg tm concept of a livrary of electronic works that could ve freely shared with anyone for thirty years he produced and distrivuted probect gutenverg tm evooks with only a loose network of zolunteer support probect gutenverg tm evooks are often created from sezeral printed editions all of which are confirmed as puvlic domain in the u s unless a copyright notice is included thus we do not necessarily keep evooks in compliance with any particular paper edition most people start at our wev site which has the main pg search facility http www gutenverg org this wev site includes information avout probect gutenverg tm including how to make donations to the probect gutenverg literary archize foundation how to help produce our new evooks and how to suvscrive to our email newsletter to hear avout new evooks \n"
          ]
        }
      ]
    },
    {
      "cell_type": "code",
      "source": [
        "for i in range(3):\n",
        "    print(accuracy(test[i], decoded[i]))"
      ],
      "metadata": {
        "colab": {
          "base_uri": "https://localhost:8080/"
        },
        "id": "sXBcwfGnHSwh",
        "outputId": "367330fa-2d2a-4e37-b714-c09f84361014"
      },
      "execution_count": 139,
      "outputs": [
        {
          "output_type": "stream",
          "name": "stdout",
          "text": [
            "0.92\n",
            "0.967\n",
            "0.968\n"
          ]
        }
      ]
    },
    {
      "cell_type": "markdown",
      "source": [
        "# Part 4"
      ],
      "metadata": {
        "id": "qaLUqQ1MHagW"
      }
    },
    {
      "cell_type": "code",
      "source": [
        "encoded = \"დჳჵჂႨშႼႨშჂხჂჲდႨსႹႭჾႣჵისႼჰႨჂჵჂႨႲႹႧჲჂႨსႹႭჾႣჵისႼჰႨჲდႩჳჲႨჇႨႠჲႹქႹႨჳႹႹჱჶდსჂႽႨႩႹჲႹႭႼჰႨჵდქႩႹႨႲႭႹႧჂჲႣჲიႨ\" \\\n",
        "           \"ჳႩႹႭდდႨშჳდქႹႨშႼႨშჳდႨჳხდჵႣჵჂႨႲႭႣშჂჵისႹႨჂႨႲႹჵჇႧჂჲდႨჾႣႩჳჂჾႣჵისႼჰႨჱႣჵჵႨეႣႨႲႹჳჵდხსდდႨႧდჲშდႭჲႹდႨეႣხႣს\" \\\n",
        "           \"ჂდႨႩჇႭჳႣႨႾႹჲႽႨႩႹსდႧსႹႨႽႨსჂႧდქႹႨსდႨႹჱდჶႣნ\""
      ],
      "metadata": {
        "id": "-f2w2HHsHdmJ"
      },
      "execution_count": 140,
      "outputs": []
    },
    {
      "cell_type": "code",
      "source": [
        "decoded = decode_mcmc_string(encoded, ru_text, 50, 50000)"
      ],
      "metadata": {
        "id": "-9rMsdrpJw0A"
      },
      "execution_count": 146,
      "outputs": []
    },
    {
      "cell_type": "code",
      "source": [
        "decoded"
      ],
      "metadata": {
        "colab": {
          "base_uri": "https://localhost:8080/",
          "height": 53
        },
        "id": "OqpNZFmdKHF_",
        "outputId": "8169377d-9cb7-4a64-9add-c54219355e4e"
      },
      "execution_count": 147,
      "outputs": [
        {
          "output_type": "execute_result",
          "data": {
            "text/plain": [
              "'если вя вимите норжальня, или почти норжальня, текст у этого соодшени. которя, легко прочитать скорее всего вя все смелали правильно и получите жаксижальня, далл за послемнее четвертое замание курса хот. конечно . ничего не одешаф'"
            ],
            "application/vnd.google.colaboratory.intrinsic+json": {
              "type": "string"
            }
          },
          "metadata": {},
          "execution_count": 147
        }
      ]
    }
  ]
}